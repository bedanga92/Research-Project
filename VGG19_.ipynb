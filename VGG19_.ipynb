{
 "cells": [
  {
   "cell_type": "code",
   "execution_count": null,
   "metadata": {
    "colab": {
     "base_uri": "https://localhost:8080/",
     "height": 120
    },
    "colab_type": "code",
    "id": "XnaExfxEWQvi",
    "outputId": "a29fa44a-b0ea-4bbf-ceb1-e3e844e3cfc0"
   },
   "outputs": [
    {
     "name": "stdout",
     "output_type": "stream",
     "text": [
      "Go to this URL in a browser: https://accounts.google.com/o/oauth2/auth?client_id=947318989803-6bn6qk8qdgf4n4g3pfee6491hc0brc4i.apps.googleusercontent.com&redirect_uri=urn%3aietf%3awg%3aoauth%3a2.0%3aoob&scope=email%20https%3a%2f%2fwww.googleapis.com%2fauth%2fdocs.test%20https%3a%2f%2fwww.googleapis.com%2fauth%2fdrive%20https%3a%2f%2fwww.googleapis.com%2fauth%2fdrive.photos.readonly%20https%3a%2f%2fwww.googleapis.com%2fauth%2fpeopleapi.readonly&response_type=code\n",
      "\n",
      "Enter your authorization code:\n",
      "··········\n",
      "Mounted at /content/drive\n"
     ]
    }
   ],
   "source": [
    "#Mounting Google Drive\n",
    "from google.colab import drive\n",
    "drive.mount('/content/drive')"
   ]
  },
  {
   "cell_type": "code",
   "execution_count": null,
   "metadata": {
    "colab": {},
    "colab_type": "code",
    "id": "cOQAbsVXGZsn"
   },
   "outputs": [],
   "source": [
    "#Loading the LoadCNNModel.py in colab environment that contains the model definitions\n",
    "!cp /content/drive/My\\ Drive/LoadCNNModel.py /content"
   ]
  },
  {
   "cell_type": "markdown",
   "metadata": {
    "colab_type": "text",
    "id": "GOB0npFNSGUq"
   },
   "source": [
    "Basic Modules"
   ]
  },
  {
   "cell_type": "code",
   "execution_count": null,
   "metadata": {
    "colab": {},
    "colab_type": "code",
    "id": "yDRodsPHQJc_"
   },
   "outputs": [],
   "source": [
    "import os\n",
    "import numpy as np\n",
    "import pandas as pd\n",
    "import cv2\n",
    "import tensorflow as tf\n",
    "from tensorflow import keras\n",
    "import zipfile\n",
    "import seaborn as sns\n",
    "import matplotlib.pyplot as plt\n",
    "from sklearn import metrics\n",
    "import itertools\n",
    "from tensorflow.keras.preprocessing.image import ImageDataGenerator\n",
    "from tensorflow.keras.optimizers import Adam\n",
    "from tensorflow.keras.callbacks import ModelCheckpoint, CSVLogger,LearningRateScheduler\n",
    "from tensorflow.keras.models import  load_model\n",
    "\n",
    "from LoadCNNModel import loadVGG19Model"
   ]
  },
  {
   "cell_type": "code",
   "execution_count": null,
   "metadata": {
    "colab": {
     "base_uri": "https://localhost:8080/",
     "height": 34
    },
    "colab_type": "code",
    "id": "csyxxQOOo4Vw",
    "outputId": "49ffbdc8-01e9-49d3-9022-5cb7ceabd370"
   },
   "outputs": [
    {
     "data": {
      "application/vnd.google.colaboratory.intrinsic+json": {
       "type": "string"
      },
      "text/plain": [
       "'/device:GPU:0'"
      ]
     },
     "execution_count": 5,
     "metadata": {
      "tags": []
     },
     "output_type": "execute_result"
    }
   ],
   "source": [
    "#To check if GPU is enables\n",
    "tf.test.gpu_device_name()"
   ]
  },
  {
   "cell_type": "markdown",
   "metadata": {
    "colab_type": "text",
    "id": "n59Fe_8-qSnn"
   },
   "source": [
    "Loading and Extracting Data"
   ]
  },
  {
   "cell_type": "code",
   "execution_count": null,
   "metadata": {
    "colab": {},
    "colab_type": "code",
    "id": "bvx_8jC3qR0U"
   },
   "outputs": [],
   "source": [
    "BASE_PATH = '/content'\n",
    "#Function for extracting dataset\n",
    "def extract_dataset(path):\n",
    "\n",
    "  zip_ref = zipfile.ZipFile(path, 'r')\n",
    "  zip_ref.extractall(BASE_PATH)\n",
    "  zip_ref.close()"
   ]
  },
  {
   "cell_type": "code",
   "execution_count": null,
   "metadata": {
    "colab": {},
    "colab_type": "code",
    "id": "LAMD1LmnqqTx"
   },
   "outputs": [],
   "source": [
    "#Extracting the dataset\n",
    "extract_dataset('/content/drive/My Drive/Research_Dataset/Dataset.zip')"
   ]
  },
  {
   "cell_type": "code",
   "execution_count": null,
   "metadata": {
    "colab": {},
    "colab_type": "code",
    "id": "LThDo8xzfOX8"
   },
   "outputs": [],
   "source": [
    "#Loading the train, test and validation image labels\n",
    "train = pd.read_csv('/content/Dataset/train.csv')\n",
    "test = pd.read_csv('/content/Dataset/test.csv')\n",
    "val = pd.read_csv('/content/Dataset/val.csv')"
   ]
  },
  {
   "cell_type": "code",
   "execution_count": null,
   "metadata": {
    "colab": {
     "base_uri": "https://localhost:8080/",
     "height": 66
    },
    "colab_type": "code",
    "id": "knbeIkgkNRap",
    "outputId": "c7adc9a8-b8fb-4885-8580-6c6ce31bce2d"
   },
   "outputs": [],
   "source": [
    "'''\n",
    "Image Data Generator for loading the images for Train, Test and Validation Images \n",
    "\n",
    "1. flow_from_dataframe() : loads the images listed in the dataframe loaded in the previous step\n",
    "by extracting the image name mentioned in \"x_col\" and the labels are in the \"y_col\"\n",
    "the path for the images are set in the \"directory\" argument.\n",
    "\n",
    "2. The real time augmentation are specified in the ImageDataGenerator object created for training \"dataGenerator\".\n",
    "'''\n",
    "image_size = 224\n",
    "\n",
    "dataGenerator = ImageDataGenerator(horizontal_flip=True,\n",
    "                                vertical_flip=True,\n",
    "                                rotation_range=45,\n",
    "                                width_shift_range=0.1,\n",
    "                                height_shift_range=0.1,\n",
    "                                zoom_range=.1,\n",
    "                                fill_mode='nearest',\n",
    "                                shear_range=0.1,\n",
    "                                rescale=1/255,\n",
    "                                )#validation_split=0.2\n",
    "\n",
    "test_Data_Generator = ImageDataGenerator(rescale=1/255)                                \n",
    "trainGenerator = dataGenerator.flow_from_dataframe(train,\n",
    "                                        directory='/content/Dataset/Train',\n",
    "                                        target_size=(image_size, image_size),\n",
    "                                        x_col=\"Image\",\n",
    "                                        y_col=['lung_aca','lung_n','lung_scc'],\n",
    "                                        class_mode='raw',\n",
    "                                        shuffle=False,\n",
    "                                        subset='training',\n",
    "                                        batch_size=32)\n",
    "validGenerator =  test_Data_Generator.flow_from_dataframe(val,\n",
    "                                        directory='/content/Dataset/Val',\n",
    "                                        target_size=(image_size,image_size),\n",
    "                                        x_col=\"Image\",\n",
    "                                        y_col=['lung_aca','lung_n','lung_scc'],\n",
    "                                        class_mode='raw',\n",
    "                                        shuffle=False,\n",
    "                                        batch_size=32)\n",
    "test_gen = test_Data_Generator.flow_from_dataframe(test,\n",
    "                                        directory='/content/Dataset/Test',\n",
    "                                        target_size=(image_size,image_size),\n",
    "                                        x_col=\"Image\",\n",
    "                                        y_col=['lung_aca','lung_n','lung_scc'],\n",
    "                                        class_mode='raw',\n",
    "                                        shuffle=False,\n",
    "                                        batch_size=32)\n"
   ]
  },
  {
   "cell_type": "code",
   "execution_count": null,
   "metadata": {
    "colab": {
     "base_uri": "https://localhost:8080/",
     "height": 70
    },
    "colab_type": "code",
    "id": "hw2bpd0uNRd1",
    "outputId": "c11f7ca5-2c11-4e88-cad0-dd68124c12c2"
   },
   "outputs": [
    {
     "name": "stdout",
     "output_type": "stream",
     "text": [
      "Downloading data from https://storage.googleapis.com/tensorflow/keras-applications/vgg19/vgg19_weights_tf_dim_ordering_tf_kernels_notop.h5\n",
      "80142336/80134624 [==============================] - 1s 0us/step\n"
     ]
    }
   ],
   "source": [
    "#Initializing the VGG19 model\n",
    "modelvgg19 = loadVGG19Model((224,224,3),3)\n"
   ]
  },
  {
   "cell_type": "code",
   "execution_count": null,
   "metadata": {
    "colab": {
     "base_uri": "https://localhost:8080/",
     "height": 1000
    },
    "colab_type": "code",
    "id": "941XisE2NRjy",
    "outputId": "ec44fa06-8cdc-476f-a888-908a44138cd1"
   },
   "outputs": [
    {
     "name": "stdout",
     "output_type": "stream",
     "text": [
      "Model: \"functional_1\"\n",
      "_________________________________________________________________\n",
      "Layer (type)                 Output Shape              Param #   \n",
      "=================================================================\n",
      "input_1 (InputLayer)         [(None, 224, 224, 3)]     0         \n",
      "_________________________________________________________________\n",
      "block1_conv1 (Conv2D)        (None, 224, 224, 64)      1792      \n",
      "_________________________________________________________________\n",
      "block1_conv2 (Conv2D)        (None, 224, 224, 64)      36928     \n",
      "_________________________________________________________________\n",
      "block1_pool (MaxPooling2D)   (None, 112, 112, 64)      0         \n",
      "_________________________________________________________________\n",
      "block2_conv1 (Conv2D)        (None, 112, 112, 128)     73856     \n",
      "_________________________________________________________________\n",
      "block2_conv2 (Conv2D)        (None, 112, 112, 128)     147584    \n",
      "_________________________________________________________________\n",
      "block2_pool (MaxPooling2D)   (None, 56, 56, 128)       0         \n",
      "_________________________________________________________________\n",
      "block3_conv1 (Conv2D)        (None, 56, 56, 256)       295168    \n",
      "_________________________________________________________________\n",
      "block3_conv2 (Conv2D)        (None, 56, 56, 256)       590080    \n",
      "_________________________________________________________________\n",
      "block3_conv3 (Conv2D)        (None, 56, 56, 256)       590080    \n",
      "_________________________________________________________________\n",
      "block3_conv4 (Conv2D)        (None, 56, 56, 256)       590080    \n",
      "_________________________________________________________________\n",
      "block3_pool (MaxPooling2D)   (None, 28, 28, 256)       0         \n",
      "_________________________________________________________________\n",
      "block4_conv1 (Conv2D)        (None, 28, 28, 512)       1180160   \n",
      "_________________________________________________________________\n",
      "block4_conv2 (Conv2D)        (None, 28, 28, 512)       2359808   \n",
      "_________________________________________________________________\n",
      "block4_conv3 (Conv2D)        (None, 28, 28, 512)       2359808   \n",
      "_________________________________________________________________\n",
      "block4_conv4 (Conv2D)        (None, 28, 28, 512)       2359808   \n",
      "_________________________________________________________________\n",
      "block4_pool (MaxPooling2D)   (None, 14, 14, 512)       0         \n",
      "_________________________________________________________________\n",
      "block5_conv1 (Conv2D)        (None, 14, 14, 512)       2359808   \n",
      "_________________________________________________________________\n",
      "block5_conv2 (Conv2D)        (None, 14, 14, 512)       2359808   \n",
      "_________________________________________________________________\n",
      "block5_conv3 (Conv2D)        (None, 14, 14, 512)       2359808   \n",
      "_________________________________________________________________\n",
      "block5_conv4 (Conv2D)        (None, 14, 14, 512)       2359808   \n",
      "_________________________________________________________________\n",
      "block5_pool (MaxPooling2D)   (None, 7, 7, 512)         0         \n",
      "_________________________________________________________________\n",
      "flatten (Flatten)            (None, 25088)             0         \n",
      "_________________________________________________________________\n",
      "dense (Dense)                (None, 1024)              25691136  \n",
      "_________________________________________________________________\n",
      "dense_1 (Dense)              (None, 512)               524800    \n",
      "_________________________________________________________________\n",
      "dense_2 (Dense)              (None, 3)                 1539      \n",
      "=================================================================\n",
      "Total params: 46,241,859\n",
      "Trainable params: 26,217,475\n",
      "Non-trainable params: 20,024,384\n",
      "_________________________________________________________________\n"
     ]
    }
   ],
   "source": [
    "#Printing the model summary\n",
    "modelvgg19.summary()"
   ]
  },
  {
   "cell_type": "code",
   "execution_count": null,
   "metadata": {
    "colab": {},
    "colab_type": "code",
    "id": "73lZnckBPD5t"
   },
   "outputs": [],
   "source": [
    "#Initilizing the optimizer \n",
    "adam = Adam(lr=0.0001)\n",
    "model.compile(loss='categorical_crossentropy',optimizer=adam, metrics=['accuracy'])"
   ]
  },
  {
   "cell_type": "code",
   "execution_count": null,
   "metadata": {
    "colab": {},
    "colab_type": "code",
    "id": "QnEIDyi6PD9D"
   },
   "outputs": [],
   "source": [
    "#Initializing the callbacks\n",
    "log = CSVLogger('/content/drive/My Drive/Research_Dataset/VGG19/VGG19.csv')\n",
    "lr_decay = LearningRateScheduler(schedule=lambda epoch: 0.0001 * np.exp(-epoch / 10.))\n",
    "mc = ModelCheckpoint('/content/drive/My Drive/Research_Dataset/VGG19/rp_vgg19_model.h5', monitor='val_accuracy', mode='max', verbose=1, save_best_only=True)"
   ]
  },
  {
   "cell_type": "code",
   "execution_count": null,
   "metadata": {
    "colab": {
     "base_uri": "https://localhost:8080/",
     "height": 1000
    },
    "colab_type": "code",
    "id": "FwKLfZeAPD3O",
    "outputId": "ba725135-6535-4c5d-bd41-0d6deed8654f"
   },
   "outputs": [
    {
     "name": "stdout",
     "output_type": "stream",
     "text": [
      "Epoch 1/30\n",
      "299/299 [==============================] - 172s 574ms/step - loss: 0.1347 - accuracy: 0.9495 - val_loss: 0.0455 - val_accuracy: 0.9842\n",
      "\n",
      "Epoch 00001: val_accuracy improved from -inf to 0.98417, saving model to ./drive/My Drive/rp_vgg19_model.h5\n",
      "Epoch 2/30\n",
      "299/299 [==============================] - 166s 556ms/step - loss: 0.0323 - accuracy: 0.9883 - val_loss: 0.0011 - val_accuracy: 0.9962\n",
      "\n",
      "Epoch 00002: val_accuracy improved from 0.98417 to 0.99625, saving model to ./drive/My Drive/rp_vgg19_model.h5\n",
      "Epoch 3/30\n",
      "299/299 [==============================] - 165s 550ms/step - loss: 0.0420 - accuracy: 0.9848 - val_loss: 6.0476e-04 - val_accuracy: 0.9967\n",
      "\n",
      "Epoch 00003: val_accuracy improved from 0.99625 to 0.99667, saving model to ./drive/My Drive/rp_vgg19_model.h5\n",
      "Epoch 4/30\n",
      "299/299 [==============================] - 163s 545ms/step - loss: 0.0216 - accuracy: 0.9921 - val_loss: 0.0011 - val_accuracy: 0.9975\n",
      "\n",
      "Epoch 00004: val_accuracy improved from 0.99667 to 0.99750, saving model to ./drive/My Drive/rp_vgg19_model.h5\n",
      "Epoch 5/30\n",
      "299/299 [==============================] - 163s 545ms/step - loss: 0.0291 - accuracy: 0.9899 - val_loss: 0.0062 - val_accuracy: 0.9954\n",
      "\n",
      "Epoch 00005: val_accuracy did not improve from 0.99750\n",
      "Epoch 6/30\n",
      "299/299 [==============================] - 161s 539ms/step - loss: 0.0203 - accuracy: 0.9925 - val_loss: 2.4558e-04 - val_accuracy: 0.9933\n",
      "\n",
      "Epoch 00006: val_accuracy did not improve from 0.99750\n",
      "Epoch 7/30\n",
      "299/299 [==============================] - 160s 535ms/step - loss: 0.0150 - accuracy: 0.9947 - val_loss: 2.2428e-04 - val_accuracy: 0.9992\n",
      "\n",
      "Epoch 00007: val_accuracy improved from 0.99750 to 0.99917, saving model to ./drive/My Drive/rp_vgg19_model.h5\n",
      "Epoch 8/30\n",
      "299/299 [==============================] - 159s 532ms/step - loss: 0.0165 - accuracy: 0.9944 - val_loss: 2.4738e-04 - val_accuracy: 0.9987\n",
      "\n",
      "Epoch 00008: val_accuracy did not improve from 0.99917\n",
      "Epoch 9/30\n",
      "299/299 [==============================] - 158s 529ms/step - loss: 0.0074 - accuracy: 0.9970 - val_loss: 0.0051 - val_accuracy: 0.9929\n",
      "\n",
      "Epoch 00009: val_accuracy did not improve from 0.99917\n",
      "Epoch 10/30\n",
      "299/299 [==============================] - 157s 526ms/step - loss: 0.0177 - accuracy: 0.9931 - val_loss: 1.2971e-05 - val_accuracy: 0.9987\n",
      "\n",
      "Epoch 00010: val_accuracy did not improve from 0.99917\n",
      "Epoch 11/30\n",
      "299/299 [==============================] - 154s 516ms/step - loss: 0.0161 - accuracy: 0.9949 - val_loss: 9.1930e-04 - val_accuracy: 0.9967\n",
      "\n",
      "Epoch 00011: val_accuracy did not improve from 0.99917\n",
      "Epoch 12/30\n",
      "299/299 [==============================] - 154s 516ms/step - loss: 0.0158 - accuracy: 0.9951 - val_loss: 4.7245e-05 - val_accuracy: 0.9983\n",
      "\n",
      "Epoch 00012: val_accuracy did not improve from 0.99917\n",
      "Epoch 13/30\n",
      "299/299 [==============================] - 157s 526ms/step - loss: 0.0132 - accuracy: 0.9948 - val_loss: 7.1938e-05 - val_accuracy: 0.9979\n",
      "\n",
      "Epoch 00013: val_accuracy did not improve from 0.99917\n",
      "Epoch 14/30\n",
      "299/299 [==============================] - 154s 515ms/step - loss: 0.0120 - accuracy: 0.9964 - val_loss: 2.6721e-04 - val_accuracy: 0.9958\n",
      "\n",
      "Epoch 00014: val_accuracy did not improve from 0.99917\n",
      "Epoch 15/30\n",
      "299/299 [==============================] - 153s 511ms/step - loss: 0.0075 - accuracy: 0.9975 - val_loss: 8.6129e-04 - val_accuracy: 0.9946\n",
      "\n",
      "Epoch 00015: val_accuracy did not improve from 0.99917\n",
      "Epoch 16/30\n",
      "299/299 [==============================] - 152s 507ms/step - loss: 0.0154 - accuracy: 0.9948 - val_loss: 8.0720e-05 - val_accuracy: 0.9992\n",
      "\n",
      "Epoch 00016: val_accuracy did not improve from 0.99917\n",
      "Epoch 17/30\n",
      "299/299 [==============================] - 152s 507ms/step - loss: 0.0050 - accuracy: 0.9981 - val_loss: 7.8628e-04 - val_accuracy: 0.9967\n",
      "\n",
      "Epoch 00017: val_accuracy did not improve from 0.99917\n",
      "Epoch 18/30\n",
      "299/299 [==============================] - 151s 504ms/step - loss: 0.0081 - accuracy: 0.9971 - val_loss: 0.0012 - val_accuracy: 0.9962\n",
      "\n",
      "Epoch 00018: val_accuracy did not improve from 0.99917\n",
      "Epoch 19/30\n",
      "299/299 [==============================] - 151s 504ms/step - loss: 0.0151 - accuracy: 0.9955 - val_loss: 1.1306e-04 - val_accuracy: 0.9996\n",
      "\n",
      "Epoch 00019: val_accuracy improved from 0.99917 to 0.99958, saving model to ./drive/My Drive/rp_vgg19_model.h5\n",
      "Epoch 20/30\n",
      "299/299 [==============================] - 151s 504ms/step - loss: 0.0065 - accuracy: 0.9977 - val_loss: 1.7965e-05 - val_accuracy: 0.9996\n",
      "\n",
      "Epoch 00020: val_accuracy did not improve from 0.99958\n",
      "Epoch 21/30\n",
      "299/299 [==============================] - 150s 503ms/step - loss: 0.0131 - accuracy: 0.9962 - val_loss: 0.0023 - val_accuracy: 0.9987\n",
      "\n",
      "Epoch 00021: val_accuracy did not improve from 0.99958\n",
      "Epoch 22/30\n",
      "299/299 [==============================] - 150s 502ms/step - loss: 0.0085 - accuracy: 0.9969 - val_loss: 1.9424e-05 - val_accuracy: 0.9996\n",
      "\n",
      "Epoch 00022: val_accuracy did not improve from 0.99958\n",
      "Epoch 23/30\n",
      "299/299 [==============================] - 150s 502ms/step - loss: 0.0048 - accuracy: 0.9980 - val_loss: 4.7231e-04 - val_accuracy: 0.9983\n",
      "\n",
      "Epoch 00023: val_accuracy did not improve from 0.99958\n",
      "Epoch 24/30\n",
      "299/299 [==============================] - 150s 501ms/step - loss: 0.0152 - accuracy: 0.9950 - val_loss: 3.6180e-05 - val_accuracy: 0.9992\n",
      "\n",
      "Epoch 00024: val_accuracy did not improve from 0.99958\n",
      "Epoch 25/30\n",
      "299/299 [==============================] - 150s 501ms/step - loss: 0.0058 - accuracy: 0.9979 - val_loss: 0.0030 - val_accuracy: 0.9933\n",
      "\n",
      "Epoch 00025: val_accuracy did not improve from 0.99958\n",
      "Epoch 26/30\n",
      "299/299 [==============================] - 150s 501ms/step - loss: 0.0065 - accuracy: 0.9978 - val_loss: 2.3367e-05 - val_accuracy: 1.0000\n",
      "\n",
      "Epoch 00026: val_accuracy improved from 0.99958 to 1.00000, saving model to ./drive/My Drive/rp_vgg19_model.h5\n",
      "Epoch 27/30\n",
      "299/299 [==============================] - 151s 504ms/step - loss: 0.0085 - accuracy: 0.9972 - val_loss: 1.3861e-04 - val_accuracy: 0.9992\n",
      "\n",
      "Epoch 00027: val_accuracy did not improve from 1.00000\n",
      "Epoch 28/30\n",
      "299/299 [==============================] - 150s 503ms/step - loss: 0.0086 - accuracy: 0.9974 - val_loss: 3.4565e-05 - val_accuracy: 0.9996\n",
      "\n",
      "Epoch 00028: val_accuracy did not improve from 1.00000\n",
      "Epoch 29/30\n",
      "299/299 [==============================] - 150s 502ms/step - loss: 0.0089 - accuracy: 0.9969 - val_loss: 5.6006e-05 - val_accuracy: 0.9971\n",
      "\n",
      "Epoch 00029: val_accuracy did not improve from 1.00000\n",
      "Epoch 30/30\n",
      "299/299 [==============================] - 151s 504ms/step - loss: 0.0048 - accuracy: 0.9984 - val_loss: 2.1681e-06 - val_accuracy: 0.9996\n",
      "\n",
      "Epoch 00030: val_accuracy did not improve from 1.00000\n"
     ]
    }
   ],
   "source": [
    "#Training the DenseNet model\n",
    "train_step = trainGenerator.n//trainGenerator.batch_size\n",
    "val_step = validGenerator.n//validGenerator.batch_size\n",
    "history = model.fit_generator(generator=trainGenerator,\n",
    "                                steps_per_epoch=train_step,\n",
    "                                validation_data=validGenerator,\n",
    "                                validation_steps=val_step,\n",
    "                                epochs=30,callbacks=[log, mc,lr_decay])"
   ]
  },
  {
   "cell_type": "code",
   "execution_count": null,
   "metadata": {
    "colab": {
     "base_uri": "https://localhost:8080/",
     "height": 621
    },
    "colab_type": "code",
    "id": "dR4x6jFiNRm_",
    "outputId": "a31a2999-8a5c-4cab-a8bd-22877c79e35c"
   },
   "outputs": [
    {
     "data": {
      "image/png": "[encoded data removed]",
      "text/plain": [
       "<Figure size 1440x720 with 1 Axes>"
      ]
     },
     "metadata": {
      "needs_background": "light",
      "tags": []
     },
     "output_type": "display_data"
    }
   ],
   "source": [
    "#Plotting the train and validation accuracy curve\n",
    "plt.figure(figsize=(20,10))\n",
    "plt.plot(history.history['accuracy'],linewidth=3.0)\n",
    "plt.plot(history.history['val_accuracy'],linewidth=3.0)\n",
    "plt.title('model accuracy')\n",
    "plt.ylabel('accuracy')\n",
    "plt.xlabel('epoch')\n",
    "plt.legend(['train', 'validation'], loc='upper left')\n",
    "plt.show()"
   ]
  },
  {
   "cell_type": "code",
   "execution_count": null,
   "metadata": {
    "colab": {
     "base_uri": "https://localhost:8080/",
     "height": 621
    },
    "colab_type": "code",
    "id": "afYq7LgBNRg1",
    "outputId": "27af28db-9a07-4e37-d357-38260bc8f7ce"
   },
   "outputs": [
    {
     "data": {
      "image/png": "[encoded data removed]",
      "text/plain": [
       "<Figure size 1440x720 with 1 Axes>"
      ]
     },
     "metadata": {
      "needs_background": "light",
      "tags": []
     },
     "output_type": "display_data"
    }
   ],
   "source": [
    "#Plotting the training and validation loss curve\n",
    "plt.figure(figsize=(20,10))\n",
    "plt.plot(history.history['loss'], color='black',linewidth=3.0)\n",
    "plt.plot(history.history['val_loss'],color='red',linewidth=2.0)\n",
    "plt.title('model loss')\n",
    "plt.ylabel('loss')\n",
    "plt.xlabel('epoch')\n",
    "plt.legend(['train', 'validation'], loc='upper left')\n",
    "plt.show()"
   ]
  },
  {
   "cell_type": "code",
   "execution_count": null,
   "metadata": {
    "colab": {},
    "colab_type": "code",
    "id": "2ywhnpsnBgkf"
   },
   "outputs": [],
   "source": [
    "#Loading the model for evaluation\n",
    "from keras.models import  load_model\n",
    "model = load_model('/content/drive/My Drive/Research_Dataset/VGG19/rp_vgg19_model.h5')"
   ]
  },
  {
   "cell_type": "code",
   "execution_count": null,
   "metadata": {
    "colab": {
     "base_uri": "https://localhost:8080/",
     "height": 120
    },
    "colab_type": "code",
    "id": "cER9gb2obxg_",
    "outputId": "798feb88-c8da-4877-b94c-4a51574b63f7"
   },
   "outputs": [
    {
     "name": "stdout",
     "output_type": "stream",
     "text": [
      "WARNING:tensorflow:From <ipython-input-17-fa4a98012e45>:1: Model.evaluate_generator (from tensorflow.python.keras.engine.training) is deprecated and will be removed in a future version.\n",
      "Instructions for updating:\n",
      "Please use Model.evaluate, which supports generators.\n",
      "94/94 [==============================] - 18s 190ms/step - loss: 0.0030 - accuracy: 0.9990\n",
      "Testing Accuracy :0.9990000128746033\n"
     ]
    }
   ],
   "source": [
    "#Evaluating the test accuracy\n",
    "test_pred = model.evaluate_generator(test_gen,verbose=1)\n",
    "print(\"Testing Accuracy :\"+str(test_pred[1]))"
   ]
  },
  {
   "cell_type": "code",
   "execution_count": null,
   "metadata": {
    "colab": {
     "base_uri": "https://localhost:8080/",
     "height": 86
    },
    "colab_type": "code",
    "id": "8_BuOjqSCUb0",
    "outputId": "9adfce78-11ac-4d66-ac6b-de4e2b9df32c"
   },
   "outputs": [
    {
     "name": "stdout",
     "output_type": "stream",
     "text": [
      " 2/94 [..............................] - ETA: 9sWARNING:tensorflow:Callbacks method `on_predict_batch_end` is slow compared to the batch time (batch time: 0.0386s vs `on_predict_batch_end` time: 0.1251s). Check your callbacks.\n",
      "94/94 [==============================] - 17s 181ms/step\n"
     ]
    },
    {
     "data": {
      "text/plain": [
       "array([9.9999845e-01, 1.5606789e-06, 4.9734425e-09], dtype=float32)"
      ]
     },
     "execution_count": 18,
     "metadata": {
      "tags": []
     },
     "output_type": "execute_result"
    }
   ],
   "source": [
    "#Extracting the prediction made by the model\n",
    "testin_predictions = model.predict(test_gen,verbose=1)\n",
    "testin_predictions[0]"
   ]
  },
  {
   "cell_type": "code",
   "execution_count": null,
   "metadata": {
    "colab": {},
    "colab_type": "code",
    "id": "NEAKc7_6c4at"
   },
   "outputs": [],
   "source": [
    "hist = pd.DataFrame(history.history)\n",
    "hist.to_csv('./drive/My Drive/history_vgg19.csv')\n",
    "hist.head()"
   ]
  },
  {
   "cell_type": "code",
   "execution_count": null,
   "metadata": {
    "colab": {
     "base_uri": "https://localhost:8080/",
     "height": 33
    },
    "colab_type": "code",
    "id": "9OswVVNchuu2",
    "outputId": "c3ad7eed-98ec-4259-9c2d-1e18c3eea569"
   },
   "outputs": [
    {
     "data": {
      "text/plain": [
       "array([ True, False, False])"
      ]
     },
     "execution_count": 23,
     "metadata": {
      "tags": []
     },
     "output_type": "execute_result"
    }
   ],
   "source": [
    "testin_predictionsb = (testin_predictions>0.5)\n",
    "testin_predictionsb[0]"
   ]
  },
  {
   "cell_type": "markdown",
   "metadata": {
    "colab_type": "text",
    "id": "CoR4VI0VLjhO"
   },
   "source": [
    "### Converting the prediction into string labels\n",
    "\n",
    "The predictions are converted from label encodings to actual string labels.\n",
    "\"result\" dataframe is created which has the predictied values\n"
   ]
  },
  {
   "cell_type": "code",
   "execution_count": null,
   "metadata": {
    "colab": {},
    "colab_type": "code",
    "id": "yO7_V7B5hxhp"
   },
   "outputs": [],
   "source": [
    "predictions = testin_predictionsb.astype(int)"
   ]
  },
  {
   "cell_type": "code",
   "execution_count": null,
   "metadata": {
    "colab": {
     "base_uri": "https://localhost:8080/",
     "height": 197
    },
    "colab_type": "code",
    "id": "3kK7GFCKhzbg",
    "outputId": "8286d5af-f07e-4447-dfc9-ea5182dfe367"
   },
   "outputs": [
    {
     "data": {
      "text/html": [
       "<div>\n",
       "<style scoped>\n",
       "    .dataframe tbody tr th:only-of-type {\n",
       "        vertical-align: middle;\n",
       "    }\n",
       "\n",
       "    .dataframe tbody tr th {\n",
       "        vertical-align: top;\n",
       "    }\n",
       "\n",
       "    .dataframe thead th {\n",
       "        text-align: right;\n",
       "    }\n",
       "</style>\n",
       "<table border=\"1\" class=\"dataframe\">\n",
       "  <thead>\n",
       "    <tr style=\"text-align: right;\">\n",
       "      <th></th>\n",
       "      <th>Image</th>\n",
       "      <th>lung_aca</th>\n",
       "      <th>lung_n</th>\n",
       "      <th>lung_scc</th>\n",
       "    </tr>\n",
       "  </thead>\n",
       "  <tbody>\n",
       "    <tr>\n",
       "      <th>0</th>\n",
       "      <td>lungaca1295.jpeg</td>\n",
       "      <td>1</td>\n",
       "      <td>0</td>\n",
       "      <td>0</td>\n",
       "    </tr>\n",
       "    <tr>\n",
       "      <th>1</th>\n",
       "      <td>lungaca249.jpeg</td>\n",
       "      <td>1</td>\n",
       "      <td>0</td>\n",
       "      <td>0</td>\n",
       "    </tr>\n",
       "    <tr>\n",
       "      <th>2</th>\n",
       "      <td>lungscc2058.jpeg</td>\n",
       "      <td>0</td>\n",
       "      <td>0</td>\n",
       "      <td>1</td>\n",
       "    </tr>\n",
       "    <tr>\n",
       "      <th>3</th>\n",
       "      <td>lungn4006.jpeg</td>\n",
       "      <td>0</td>\n",
       "      <td>1</td>\n",
       "      <td>0</td>\n",
       "    </tr>\n",
       "    <tr>\n",
       "      <th>4</th>\n",
       "      <td>lungn3434.jpeg</td>\n",
       "      <td>0</td>\n",
       "      <td>1</td>\n",
       "      <td>0</td>\n",
       "    </tr>\n",
       "  </tbody>\n",
       "</table>\n",
       "</div>"
      ],
      "text/plain": [
       "              Image  lung_aca  lung_n  lung_scc\n",
       "0  lungaca1295.jpeg         1       0         0\n",
       "1   lungaca249.jpeg         1       0         0\n",
       "2  lungscc2058.jpeg         0       0         1\n",
       "3    lungn4006.jpeg         0       1         0\n",
       "4    lungn3434.jpeg         0       1         0"
      ]
     },
     "execution_count": 25,
     "metadata": {
      "tags": []
     },
     "output_type": "execute_result"
    }
   ],
   "source": [
    "columns = ['lung_aca', 'lung_n', 'lung_scc']\n",
    "\n",
    "results = pd.DataFrame(predictions, columns=columns)\n",
    "results['Image'] = test_gen.filenames\n",
    "ordered_cols = ['Image'] + columns\n",
    "results = results[ordered_cols]\n",
    "results.head()"
   ]
  },
  {
   "cell_type": "code",
   "execution_count": null,
   "metadata": {
    "colab": {
     "base_uri": "https://localhost:8080/",
     "height": 197
    },
    "colab_type": "code",
    "id": "yigTtyoxh1AU",
    "outputId": "e437f61c-36f2-4b76-987a-72efee9acb7a"
   },
   "outputs": [
    {
     "data": {
      "text/html": [
       "<div>\n",
       "<style scoped>\n",
       "    .dataframe tbody tr th:only-of-type {\n",
       "        vertical-align: middle;\n",
       "    }\n",
       "\n",
       "    .dataframe tbody tr th {\n",
       "        vertical-align: top;\n",
       "    }\n",
       "\n",
       "    .dataframe thead th {\n",
       "        text-align: right;\n",
       "    }\n",
       "</style>\n",
       "<table border=\"1\" class=\"dataframe\">\n",
       "  <thead>\n",
       "    <tr style=\"text-align: right;\">\n",
       "      <th></th>\n",
       "      <th>Image</th>\n",
       "      <th>lung_aca</th>\n",
       "      <th>lung_n</th>\n",
       "      <th>lung_scc</th>\n",
       "      <th>Predicted_CancerType</th>\n",
       "    </tr>\n",
       "  </thead>\n",
       "  <tbody>\n",
       "    <tr>\n",
       "      <th>0</th>\n",
       "      <td>lungaca1295.jpeg</td>\n",
       "      <td>1</td>\n",
       "      <td>0</td>\n",
       "      <td>0</td>\n",
       "      <td>lung_aca</td>\n",
       "    </tr>\n",
       "    <tr>\n",
       "      <th>1</th>\n",
       "      <td>lungaca249.jpeg</td>\n",
       "      <td>1</td>\n",
       "      <td>0</td>\n",
       "      <td>0</td>\n",
       "      <td>lung_aca</td>\n",
       "    </tr>\n",
       "    <tr>\n",
       "      <th>2</th>\n",
       "      <td>lungscc2058.jpeg</td>\n",
       "      <td>0</td>\n",
       "      <td>0</td>\n",
       "      <td>1</td>\n",
       "      <td>lung_scc</td>\n",
       "    </tr>\n",
       "    <tr>\n",
       "      <th>3</th>\n",
       "      <td>lungn4006.jpeg</td>\n",
       "      <td>0</td>\n",
       "      <td>1</td>\n",
       "      <td>0</td>\n",
       "      <td>lung_n</td>\n",
       "    </tr>\n",
       "    <tr>\n",
       "      <th>4</th>\n",
       "      <td>lungn3434.jpeg</td>\n",
       "      <td>0</td>\n",
       "      <td>1</td>\n",
       "      <td>0</td>\n",
       "      <td>lung_n</td>\n",
       "    </tr>\n",
       "  </tbody>\n",
       "</table>\n",
       "</div>"
      ],
      "text/plain": [
       "              Image  lung_aca  lung_n  lung_scc Predicted_CancerType\n",
       "0  lungaca1295.jpeg         1       0         0             lung_aca\n",
       "1   lungaca249.jpeg         1       0         0             lung_aca\n",
       "2  lungscc2058.jpeg         0       0         1             lung_scc\n",
       "3    lungn4006.jpeg         0       1         0               lung_n\n",
       "4    lungn3434.jpeg         0       1         0               lung_n"
      ]
     },
     "execution_count": 26,
     "metadata": {
      "tags": []
     },
     "output_type": "execute_result"
    }
   ],
   "source": [
    "'''\n",
    "The \"Predicted_CancerType\" column of the \"result\" dataframe contains the\n",
    "predicted cancer type.\n",
    "'''\n",
    "results['Image'] = test_gen.filenames\n",
    "results.insert(4,'Predicted_CancerType', '', False)\n",
    "ordered_cols = ['Image'] + columns + ['Predicted_CancerType']\n",
    "results = results[ordered_cols]\n",
    "\n",
    "for i in range(len(results)):\n",
    "  if results.at[i,'lung_aca'] == 1:\n",
    "    results.at[i,'Predicted_CancerType'] = 'lung_aca'\n",
    "  elif results.at[i,'lung_n'] == 1:\n",
    "    results.at[i,'Predicted_CancerType'] = 'lung_n'\n",
    "  else:\n",
    "    results.at[i,'Predicted_CancerType'] = 'lung_scc'\n",
    "\n",
    "results.head()"
   ]
  },
  {
   "cell_type": "code",
   "execution_count": null,
   "metadata": {
    "colab": {
     "base_uri": "https://localhost:8080/",
     "height": 33
    },
    "colab_type": "code",
    "id": "Cr9JMoHNh20f",
    "outputId": "c1e687e9-0f50-48dc-a76a-24f7453e9a03"
   },
   "outputs": [
    {
     "name": "stdout",
     "output_type": "stream",
     "text": [
      "Matthews Correlation Coefficient:  0.9985013062533264\n"
     ]
    }
   ],
   "source": [
    "#Estimation of the Matthew's Correlation Coefficient\n",
    "mcc = metrics.matthews_corrcoef(test['CancerType'], results['Predicted_CancerType'])\n",
    "print(\"Matthews Correlation Coefficient: \", mcc)"
   ]
  },
  {
   "cell_type": "code",
   "execution_count": null,
   "metadata": {
    "colab": {
     "base_uri": "https://localhost:8080/",
     "height": 183
    },
    "colab_type": "code",
    "id": "z1li_mg-Ih2r",
    "outputId": "7aeb0b4e-b2f9-40b5-cfa8-fa4b2f9fa15c"
   },
   "outputs": [
    {
     "name": "stdout",
     "output_type": "stream",
     "text": [
      "              precision    recall  f1-score   support\n",
      "\n",
      "    lung_aca       1.00      1.00      1.00       980\n",
      "      lung_n       1.00      1.00      1.00      1017\n",
      "    lung_scc       1.00      1.00      1.00      1003\n",
      "\n",
      "    accuracy                           1.00      3000\n",
      "   macro avg       1.00      1.00      1.00      3000\n",
      "weighted avg       1.00      1.00      1.00      3000\n",
      "\n"
     ]
    }
   ],
   "source": [
    "#Estimation of the F1 Score\n",
    "print(metrics.classification_report(test['CancerType'], results['Predicted_CancerType'],columns))"
   ]
  },
  {
   "cell_type": "code",
   "execution_count": null,
   "metadata": {
    "colab": {
     "base_uri": "https://localhost:8080/",
     "height": 66
    },
    "colab_type": "code",
    "id": "0s1qdZM7h4uO",
    "outputId": "66255875-3d1c-4719-bd49-98d5c4e5295e"
   },
   "outputs": [
    {
     "data": {
      "text/plain": [
       "array([[ 977,    0,    0],\n",
       "       [   0, 1017,    0],\n",
       "       [   3,    0, 1003]])"
      ]
     },
     "execution_count": 28,
     "metadata": {
      "tags": []
     },
     "output_type": "execute_result"
    }
   ],
   "source": [
    "#Generating the confusion matrix\n",
    "confusion_mtx = metrics.confusion_matrix(test['CancerType'], results['Predicted_CancerType'],columns)\n",
    "confusion_mtx.T"
   ]
  },
  {
   "cell_type": "code",
   "execution_count": null,
   "metadata": {
    "colab": {
     "base_uri": "https://localhost:8080/",
     "height": 505
    },
    "colab_type": "code",
    "id": "JvoRSJsnh7Es",
    "outputId": "769cb13c-86ba-41e7-fc78-52969881ff09"
   },
   "outputs": [
    {
     "data": {
      "image/png": "[encoded data removed]",
      "text/plain": [
       "<Figure size 720x576 with 2 Axes>"
      ]
     },
     "metadata": {
      "needs_background": "light",
      "tags": []
     },
     "output_type": "display_data"
    }
   ],
   "source": [
    "#plotting the confusion matrix\n",
    "plt.figure(figsize=(10,8))\n",
    "ax= plt.subplot()\n",
    "sns.heatmap(confusion_mtx.T, annot=True, ax = ax,fmt='g',annot_kws={\"size\": 17})\n",
    "ax.xaxis.set_ticklabels(columns)\n",
    "ax.yaxis.set_ticklabels(columns)\n",
    "ax.xaxis.label.set_fontsize(15)\n",
    "ax.yaxis.label.set_fontsize(15)\n",
    "ax.set_xlabel('Actual Class')\n",
    "ax.set_ylabel('Predicited Class')\n",
    "plt.xticks(fontsize=14)\n",
    "plt.yticks(fontsize=14)\n",
    "plt.show()"
   ]
  }
 ],
 "metadata": {
  "accelerator": "GPU",
  "colab": {
   "collapsed_sections": [],
   "name": "VGG19_.ipynb",
   "provenance": []
  },
  "kernelspec": {
   "display_name": "Python 3",
   "language": "python",
   "name": "python3"
  },
  "language_info": {
   "codemirror_mode": {
    "name": "ipython",
    "version": 3
   },
   "file_extension": ".py",
   "mimetype": "text/x-python",
   "name": "python",
   "nbconvert_exporter": "python",
   "pygments_lexer": "ipython3",
   "version": "3.7.7"
  }
 },
 "nbformat": 4,
 "nbformat_minor": 1
}
