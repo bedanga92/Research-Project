{
 "cells": [
  {
   "cell_type": "code",
   "execution_count": 1,
   "metadata": {},
   "outputs": [],
   "source": [
    "import os\n",
    "import numpy as np\n",
    "import pandas as pd\n",
    "import matplotlib.pyplot as plt\n",
    "import cv2\n",
    "import staintools\n",
    "import random\n",
    "import plotly.express as px\n",
    "import plotly.graph_objects as go\n",
    "import plotly.figure_factory as ff\n",
    "from plotly.subplots import make_subplots\n",
    "from tqdm import tqdm, tqdm_notebook\n",
    "#tqdm_notebook().pandas()\n",
    "\n",
    "\n",
    "#De-noising\n",
    "from skimage.restoration import denoise_nl_means, estimate_sigma\n",
    "from skimage import img_as_ubyte, img_as_float\n",
    "from skimage import io\n",
    "from scipy import ndimage as nd\n",
    "#Image Quality:\n",
    "import imquality.brisque as brisque\n",
    "\n",
    "\n",
    "#Threads\n",
    "import concurrent.futures\n",
    "\n",
    "#Time\n",
    "import time\n",
    "\n",
    "#Warnings\n",
    "import warnings\n",
    "\n",
    "\n",
    "import stain_utils as utils\n",
    "import stainNorm_Reinhard\n",
    "import stainNorm_Macenko\n",
    "import stainNorm_Vahadane\n",
    "%load_ext autoreload\n",
    "%autoreload 2\n",
    "\n",
    "%matplotlib inline\n",
    "random.seed(123)"
   ]
  },
  {
   "cell_type": "code",
   "execution_count": 2,
   "metadata": {},
   "outputs": [],
   "source": [
    "warnings.filterwarnings(\"ignore\")"
   ]
  },
  {
   "cell_type": "code",
   "execution_count": 3,
   "metadata": {},
   "outputs": [
    {
     "data": {
      "application/vnd.jupyter.widget-view+json": {
       "model_id": "5293ebe8d009460dbd1e43c70416f538",
       "version_major": 2,
       "version_minor": 0
      },
      "text/plain": [
       "HBox(children=(FloatProgress(value=0.0, max=4.0), HTML(value='')))"
      ]
     },
     "metadata": {},
     "output_type": "display_data"
    },
    {
     "name": "stdout",
     "output_type": "stream",
     "text": [
      "\n"
     ]
    },
    {
     "data": {
      "text/plain": [
       "['lung_n', 'lung_scc', 'lung_aca']"
      ]
     },
     "execution_count": 3,
     "metadata": {},
     "output_type": "execute_result"
    }
   ],
   "source": [
    "path = './LC25000/lung_colon_image_set/lung_image_sets/'\n",
    "dir_lst=[]\n",
    "for i in tqdm_notebook(os.listdir(path)):\n",
    "    if os.path.isdir(path+i):\n",
    "        dir_lst.append(i)\n",
    "dir_lst"
   ]
  },
  {
   "cell_type": "code",
   "execution_count": 4,
   "metadata": {},
   "outputs": [],
   "source": [
    "def standardize_brightness(image):\n",
    "    \n",
    "    p = np.percentile(image,90)\n",
    "    return np.clip(image * 255.0/p,0,255).astype(np.uint8)\n",
    "    "
   ]
  },
  {
   "cell_type": "code",
   "execution_count": 5,
   "metadata": {},
   "outputs": [
    {
     "data": {
      "text/plain": [
       "['lung_n', 'lung_scc', 'lung_aca']"
      ]
     },
     "execution_count": 5,
     "metadata": {},
     "output_type": "execute_result"
    }
   ],
   "source": [
    "dir_lst"
   ]
  },
  {
   "cell_type": "code",
   "execution_count": null,
   "metadata": {},
   "outputs": [],
   "source": []
  },
  {
   "cell_type": "code",
   "execution_count": null,
   "metadata": {},
   "outputs": [],
   "source": []
  },
  {
   "cell_type": "markdown",
   "metadata": {},
   "source": [
    "## Denoising Final"
   ]
  },
  {
   "cell_type": "code",
   "execution_count": 19,
   "metadata": {
    "collapsed": true
   },
   "outputs": [
    {
     "ename": "FileExistsError",
     "evalue": "[Errno 17] File exists: 'denoise/'",
     "output_type": "error",
     "traceback": [
      "\u001b[0;31m---------------------------------------------------------------------------\u001b[0m",
      "\u001b[0;31mFileExistsError\u001b[0m                           Traceback (most recent call last)",
      "\u001b[0;32m<ipython-input-19-905527e9a35a>\u001b[0m in \u001b[0;36m<module>\u001b[0;34m\u001b[0m\n\u001b[0;32m----> 1\u001b[0;31m \u001b[0mos\u001b[0m\u001b[0;34m.\u001b[0m\u001b[0mmkdir\u001b[0m\u001b[0;34m(\u001b[0m\u001b[0;34m'denoise/'\u001b[0m\u001b[0;34m)\u001b[0m\u001b[0;34m\u001b[0m\u001b[0;34m\u001b[0m\u001b[0m\n\u001b[0m\u001b[1;32m      2\u001b[0m \u001b[0;32mfor\u001b[0m \u001b[0mdirs\u001b[0m \u001b[0;32min\u001b[0m \u001b[0mdir_lst\u001b[0m\u001b[0;34m:\u001b[0m\u001b[0;34m\u001b[0m\u001b[0;34m\u001b[0m\u001b[0m\n\u001b[1;32m      3\u001b[0m     \u001b[0mos\u001b[0m\u001b[0;34m.\u001b[0m\u001b[0mmkdir\u001b[0m\u001b[0;34m(\u001b[0m\u001b[0;34m'denoise/'\u001b[0m\u001b[0;34m+\u001b[0m\u001b[0mdirs\u001b[0m\u001b[0;34m)\u001b[0m\u001b[0;34m\u001b[0m\u001b[0;34m\u001b[0m\u001b[0m\n",
      "\u001b[0;31mFileExistsError\u001b[0m: [Errno 17] File exists: 'denoise/'"
     ]
    }
   ],
   "source": [
    "os.mkdir('denoise/')\n",
    "for dirs in dir_lst:\n",
    "    os.mkdir('denoise/'+dirs)"
   ]
  },
  {
   "cell_type": "code",
   "execution_count": 36,
   "metadata": {},
   "outputs": [],
   "source": [
    "brisque_score_old = {'lung_aca': [],'lung_scc':[],'lung_n':[]}"
   ]
  },
  {
   "cell_type": "code",
   "execution_count": 47,
   "metadata": {},
   "outputs": [
    {
     "name": "stdout",
     "output_type": "stream",
     "text": [
      "5000\n"
     ]
    }
   ],
   "source": [
    "#Safe_Mode\n",
    "path='./LC25000/lung_colon_image_set/lung_image_sets/'\n",
    "lung_n = [path+'lung_n'+'/'+image for image in os.listdir(path+'lung_n')]\n",
    "\n",
    "def denoise_safe_mode(imgPath):\n",
    "    img_f = img_as_float(io.imread(imgPath))\n",
    "    sigma_est = np.mean(estimate_sigma(img_f, multichannel=True))\n",
    "    patch_kw = dict(patch_size=3,      \n",
    "                    patch_distance=2,\n",
    "                    multichannel=True)\n",
    "    denoise_img = denoise_nl_means(img_f, h=1.15 * sigma_est, fast_mode=False,\n",
    "                                   **patch_kw)\n",
    "    denoise_img_as_8byte = img_as_ubyte(denoise_img)\n",
    "        \n",
    "    a = imgPath.split('/')\n",
    "    plt.imsave('./denoise/'+a[len(a)-2]+'/'+a[len(a)-1],denoise_img_as_8byte)\n",
    "\n",
    "print(len(lung_n))\n",
    "#print(lung_n[4995:5000])"
   ]
  },
  {
   "cell_type": "code",
   "execution_count": 48,
   "metadata": {},
   "outputs": [
    {
     "name": "stdout",
     "output_type": "stream",
     "text": [
      "Finished in 3348.211063697003 seconds\n"
     ]
    }
   ],
   "source": [
    "t1 = time.perf_counter()\n",
    "with concurrent.futures.ThreadPoolExecutor() as executor:\n",
    "    executor.map(denoise_safe_mode, lung_n)\n",
    "t2 = time.perf_counter()\n",
    "print(f'Finished in {t2-t1} seconds')"
   ]
  },
  {
   "cell_type": "code",
   "execution_count": 21,
   "metadata": {},
   "outputs": [],
   "source": [
    "path='./LC25000/lung_colon_image_set/lung_image_sets/'\n",
    "def denoise_image(dirs):\n",
    "    for file in tqdm_notebook(os.listdir(path+dirs)):\n",
    "        imgPath = path+dirs+'/'+file\n",
    "        img_f = img_as_float(io.imread(imgPath))\n",
    "        sigma_est = np.mean(estimate_sigma(img_f, multichannel=True))\n",
    "        patch_kw = dict(patch_size=3,      \n",
    "                patch_distance=2,  \n",
    "                multichannel=True)\n",
    "        denoise_img = denoise_nl_means(img_f, h=1.15 * sigma_est, fast_mode=False,\n",
    "                           **patch_kw)\n",
    "        denoise_img_as_8byte = img_as_ubyte(denoise_img)\n",
    "        \n",
    "        a = imgPath.split('/')\n",
    "        plt.imsave('./denoise/'+a[len(a)-2]+'/'+a[len(a)-1],denoise_img_as_8byte)"
   ]
  },
  {
   "cell_type": "code",
   "execution_count": 22,
   "metadata": {},
   "outputs": [
    {
     "data": {
      "application/vnd.jupyter.widget-view+json": {
       "model_id": "ee9a2786b5fd48798a005c1072794300",
       "version_major": 2,
       "version_minor": 0
      },
      "text/plain": [
       "HBox(children=(FloatProgress(value=0.0, max=5000.0), HTML(value='')))"
      ]
     },
     "metadata": {},
     "output_type": "display_data"
    },
    {
     "data": {
      "application/vnd.jupyter.widget-view+json": {
       "model_id": "f68e45cce371433894d174b2d116e52b",
       "version_major": 2,
       "version_minor": 0
      },
      "text/plain": [
       "HBox(children=(FloatProgress(value=0.0, max=5000.0), HTML(value='')))"
      ]
     },
     "metadata": {},
     "output_type": "display_data"
    },
    {
     "data": {
      "application/vnd.jupyter.widget-view+json": {
       "model_id": "0b1b7537dc724a8181d39b212a3ae221",
       "version_major": 2,
       "version_minor": 0
      },
      "text/plain": [
       "HBox(children=(FloatProgress(value=0.0, max=5000.0), HTML(value='')))"
      ]
     },
     "metadata": {},
     "output_type": "display_data"
    },
    {
     "name": "stdout",
     "output_type": "stream",
     "text": [
      "\n",
      "\n",
      "\n"
     ]
    }
   ],
   "source": [
    "with concurrent.futures.ThreadPoolExecutor() as executor:\n",
    "    executor.map(denoise_image, dir_lst)"
   ]
  },
  {
   "cell_type": "code",
   "execution_count": null,
   "metadata": {},
   "outputs": [],
   "source": []
  },
  {
   "cell_type": "markdown",
   "metadata": {},
   "source": [
    "## Final code Stain Normalization"
   ]
  },
  {
   "cell_type": "code",
   "execution_count": 49,
   "metadata": {},
   "outputs": [
    {
     "name": "stdout",
     "output_type": "stream",
     "text": [
      "(4998, 'lungn4637.jpeg')\n",
      "(5000, 'lungscc2410.jpeg')\n",
      "(5000, 'lungaca4491.jpeg')\n",
      "./denoise/lung_aca/lungaca4491.jpeg\n",
      "./denoise/lung_aca/lungscc2410.jpeg\n",
      "./denoise/lung_aca/lungn4637.jpeg\n"
     ]
    }
   ],
   "source": [
    "path = './denoise/'\n",
    "for dirs in dir_lst:\n",
    "    if dirs == 'lung_aca':\n",
    "        lst_aca = [img for img in os.listdir(path+dirs)]\n",
    "        random.seed(123)\n",
    "        num_imgs_aca = len(lst_aca)\n",
    "        tg_img_aca = lst_aca[random.randint(0,num_imgs_aca)]\n",
    "        print((num_imgs_aca,tg_img_aca))\n",
    "        target_aca = cv2.imread(path+dirs+'/'+tg_img_aca)\n",
    "        target_aca = cv2.cvtColor(target_aca,cv2.COLOR_BGR2RGB)\n",
    "        target_aca = standardize_brightness(target_aca)\n",
    "        normalizer_aca = staintools.StainNormalizer(method='vahadane')\n",
    "        normalizer_aca.fit(target_aca)\n",
    "        \n",
    "    elif dirs == 'lung_scc':\n",
    "        lst_scc = [img for img in os.listdir(path+dirs)]\n",
    "        random.seed(123)\n",
    "        num_imgs_scc = len(lst_scc)\n",
    "        tg_img_scc = lst_scc[random.randint(0,num_imgs_scc)]\n",
    "        print((num_imgs_scc,tg_img_scc))\n",
    "        target_scc = cv2.imread(path+dirs+'/'+tg_img_scc)\n",
    "        target_scc = cv2.cvtColor(target_scc,cv2.COLOR_BGR2RGB)\n",
    "        target_scc = standardize_brightness(target_scc)\n",
    "        normalizer_scc = staintools.StainNormalizer(method='vahadane')\n",
    "        normalizer_scc.fit(target_scc)\n",
    "    else:\n",
    "                    \n",
    "        lst_n = [img for img in os.listdir(path+dirs)]\n",
    "        random.seed(123)\n",
    "        num_imgs_n = len(lst_n)\n",
    "        tg_img_n = lst_n[random.randint(0,num_imgs_n)]\n",
    "        print((num_imgs_n,tg_img_n))           \n",
    "        target_n = cv2.imread(path+dirs+'/'+tg_img_n)\n",
    "        target_n = cv2.cvtColor(target_n,cv2.COLOR_BGR2RGB)\n",
    "        target_n = standardize_brightness(target_n)\n",
    "        normalizer_n = staintools.StainNormalizer(method='vahadane')\n",
    "        normalizer_n.fit(target_n)\n",
    "\n",
    "print(path+dirs+'/'+tg_img_aca)\n",
    "print(path+dirs+'/'+tg_img_scc)\n",
    "print(path+dirs+'/'+tg_img_n)"
   ]
  },
  {
   "cell_type": "code",
   "execution_count": 51,
   "metadata": {},
   "outputs": [],
   "source": [
    "os.mkdir('normalize/')\n",
    "for dirs in dir_lst:\n",
    "    os.mkdir('normalize/'+dirs)"
   ]
  },
  {
   "cell_type": "code",
   "execution_count": null,
   "metadata": {},
   "outputs": [],
   "source": [
    "path = './denoise/'\n",
    "def stain_Normalize(dirs):\n",
    "    for file in tqdm_notebook(os.listdir(path+dirs)):\n",
    "        imgPath = path+dirs+'/'+file\n",
    "        img = cv2.cvtColor(cv2.imread(imgPath),cv2.COLOR_BGR2RGB)\n",
    "        \n",
    "        if dirs == 'lung_aca':\n",
    "            n_img = normalizer_aca.transform(img)\n",
    "            n_img = standardize_brightness(n_img)\n",
    "        elif dirs == 'lung_scc':\n",
    "            n_img = normalizer_scc.transform(img)\n",
    "            n_img = standardize_brightness(n_img)\n",
    "        else:\n",
    "            n_img = normalizer_n.transform(img)\n",
    "            n_img = standardize_brightness(n_img)\n",
    "            \n",
    "        #resize\n",
    "        resize = cv2.resize(n_img,(500,500),interpolation = cv2.INTER_CUBIC)\n",
    "        \n",
    "        a = imgPath.split('/')\n",
    "        plt.imsave('./normalize/'+a[len(a)-2]+'/'+a[len(a)-1],resize)"
   ]
  },
  {
   "cell_type": "code",
   "execution_count": null,
   "metadata": {},
   "outputs": [],
   "source": [
    "with concurrent.futures.ThreadPoolExecutor() as executor:\n",
    "    executor.map(stain_Normalize, dir_lst)"
   ]
  },
  {
   "cell_type": "markdown",
   "metadata": {},
   "source": [
    "## Normalizatoin Safe mode"
   ]
  },
  {
   "cell_type": "code",
   "execution_count": 6,
   "metadata": {},
   "outputs": [
    {
     "name": "stdout",
     "output_type": "stream",
     "text": [
      "(4998, 'lungn719.jpeg')\n",
      "(5000, 'lungscc3329.jpeg')\n",
      "(5000, 'lungaca1443.jpeg')\n",
      "./denoise/lung_aca/lungaca1443.jpeg\n",
      "./denoise/lung_aca/lungscc3329.jpeg\n",
      "./denoise/lung_aca/lungn719.jpeg\n"
     ]
    }
   ],
   "source": [
    "path = './denoise/'\n",
    "\n",
    "for dirs in dir_lst:\n",
    "    if dirs == 'lung_aca':\n",
    "        lst_aca = [img for img in os.listdir(path+dirs)]\n",
    "        num_imgs_aca = len(lst_aca)\n",
    "        tg_img_aca = lst_aca[random.randint(0,200)]\n",
    "        print((num_imgs_aca,tg_img_aca))\n",
    "        target_aca = cv2.imread(path+dirs+'/'+tg_img_aca)\n",
    "        target_aca = cv2.cvtColor(target_aca,cv2.COLOR_BGR2RGB)\n",
    "        target_aca = standardize_brightness(target_aca)\n",
    "        normalizer_aca = staintools.StainNormalizer(method='vahadane')\n",
    "        normalizer_aca.fit(target_aca)\n",
    "        \n",
    "    elif dirs == 'lung_scc':\n",
    "        lst_scc = [img for img in os.listdir(path+dirs)]\n",
    "        num_imgs_scc = len(lst_scc)\n",
    "        tg_img_scc = lst_scc[random.randint(0,200)]\n",
    "        print((num_imgs_scc,tg_img_scc))\n",
    "        target_scc = cv2.imread(path+dirs+'/'+tg_img_scc)\n",
    "        target_scc = cv2.cvtColor(target_scc,cv2.COLOR_BGR2RGB)\n",
    "        target_scc = standardize_brightness(target_scc)\n",
    "        normalizer_scc = staintools.StainNormalizer(method='vahadane')\n",
    "        normalizer_scc.fit(target_scc)\n",
    "    else:\n",
    "                    \n",
    "        lst_n = [img for img in os.listdir(path+dirs)]\n",
    "        num_imgs_n = len(lst_n)\n",
    "        tg_img_n = lst_n[random.randint(0,200)]\n",
    "        print((num_imgs_n,tg_img_n))           \n",
    "        target_n = cv2.imread(path+dirs+'/'+tg_img_n)\n",
    "        target_n = cv2.cvtColor(target_n,cv2.COLOR_BGR2RGB)\n",
    "        target_n = standardize_brightness(target_n)\n",
    "        normalizer_n = staintools.StainNormalizer(method='vahadane')\n",
    "        normalizer_n.fit(target_n)\n",
    "\n",
    "print(path+dirs+'/'+tg_img_aca)\n",
    "print(path+dirs+'/'+tg_img_scc)\n",
    "print(path+dirs+'/'+tg_img_n)"
   ]
  },
  {
   "cell_type": "code",
   "execution_count": 1,
   "metadata": {
    "collapsed": true
   },
   "outputs": [
    {
     "ename": "NameError",
     "evalue": "name 'os' is not defined",
     "output_type": "error",
     "traceback": [
      "\u001b[0;31m---------------------------------------------------------------------------\u001b[0m",
      "\u001b[0;31mNameError\u001b[0m                                 Traceback (most recent call last)",
      "\u001b[0;32m<ipython-input-1-8a7edd768edd>\u001b[0m in \u001b[0;36m<module>\u001b[0;34m\u001b[0m\n\u001b[1;32m      1\u001b[0m \u001b[0mpath\u001b[0m \u001b[0;34m=\u001b[0m \u001b[0;34m'./denoise2/'\u001b[0m\u001b[0;34m\u001b[0m\u001b[0;34m\u001b[0m\u001b[0m\n\u001b[0;32m----> 2\u001b[0;31m \u001b[0mlung_n\u001b[0m \u001b[0;34m=\u001b[0m \u001b[0;34m[\u001b[0m\u001b[0mpath\u001b[0m\u001b[0;34m+\u001b[0m\u001b[0;34m'lung_n'\u001b[0m\u001b[0;34m+\u001b[0m\u001b[0;34m'/'\u001b[0m\u001b[0;34m+\u001b[0m\u001b[0mimage\u001b[0m \u001b[0;32mfor\u001b[0m \u001b[0mimage\u001b[0m \u001b[0;32min\u001b[0m \u001b[0mos\u001b[0m\u001b[0;34m.\u001b[0m\u001b[0mlistdir\u001b[0m\u001b[0;34m(\u001b[0m\u001b[0mpath\u001b[0m\u001b[0;34m+\u001b[0m\u001b[0;34m'lung_n'\u001b[0m\u001b[0;34m)\u001b[0m\u001b[0;34m]\u001b[0m\u001b[0;34m\u001b[0m\u001b[0;34m\u001b[0m\u001b[0m\n\u001b[0m\u001b[1;32m      3\u001b[0m \u001b[0mlung_aca\u001b[0m \u001b[0;34m=\u001b[0m \u001b[0;34m[\u001b[0m\u001b[0mpath\u001b[0m\u001b[0;34m+\u001b[0m\u001b[0;34m'lung_aca'\u001b[0m\u001b[0;34m+\u001b[0m\u001b[0;34m'/'\u001b[0m\u001b[0;34m+\u001b[0m\u001b[0mimage\u001b[0m \u001b[0;32mfor\u001b[0m \u001b[0mimage\u001b[0m \u001b[0;32min\u001b[0m \u001b[0mos\u001b[0m\u001b[0;34m.\u001b[0m\u001b[0mlistdir\u001b[0m\u001b[0;34m(\u001b[0m\u001b[0mpath\u001b[0m\u001b[0;34m+\u001b[0m\u001b[0;34m'lung_aca'\u001b[0m\u001b[0;34m)\u001b[0m\u001b[0;34m]\u001b[0m\u001b[0;34m\u001b[0m\u001b[0;34m\u001b[0m\u001b[0m\n\u001b[1;32m      4\u001b[0m \u001b[0mlung_scc\u001b[0m \u001b[0;34m=\u001b[0m \u001b[0;34m[\u001b[0m\u001b[0mpath\u001b[0m\u001b[0;34m+\u001b[0m\u001b[0;34m'lung_scc'\u001b[0m\u001b[0;34m+\u001b[0m\u001b[0;34m'/'\u001b[0m\u001b[0;34m+\u001b[0m\u001b[0mimage\u001b[0m \u001b[0;32mfor\u001b[0m \u001b[0mimage\u001b[0m \u001b[0;32min\u001b[0m \u001b[0mos\u001b[0m\u001b[0;34m.\u001b[0m\u001b[0mlistdir\u001b[0m\u001b[0;34m(\u001b[0m\u001b[0mpath\u001b[0m\u001b[0;34m+\u001b[0m\u001b[0;34m'lung_scc'\u001b[0m\u001b[0;34m)\u001b[0m\u001b[0;34m]\u001b[0m\u001b[0;34m\u001b[0m\u001b[0;34m\u001b[0m\u001b[0m\n\u001b[1;32m      5\u001b[0m \u001b[0;34m\u001b[0m\u001b[0m\n",
      "\u001b[0;31mNameError\u001b[0m: name 'os' is not defined"
     ]
    }
   ],
   "source": [
    "path = './denoise2/'\n",
    "lung_n = [path+'lung_n'+'/'+image for image in os.listdir(path+'lung_n')]\n",
    "lung_aca = [path+'lung_aca'+'/'+image for image in os.listdir(path+'lung_aca')]\n",
    "lung_scc = [path+'lung_scc'+'/'+image for image in os.listdir(path+'lung_scc')]\n",
    "\n",
    "def stain_Normalize_safeMode(imgPath):\n",
    "    \n",
    "    img = cv2.cvtColor(cv2.imread(imgPath),cv2.COLOR_BGR2RGB)\n",
    "\n",
    "    if dirs == 'lung_aca':\n",
    "        n_img = normalizer_aca.transform(img)\n",
    "        n_img = standardize_brightness(n_img)\n",
    "    elif dirs == 'lung_scc':\n",
    "        n_img = normalizer_scc.transform(img)\n",
    "        n_img = standardize_brightness(n_img)\n",
    "    else:\n",
    "        n_img = normalizer_n.transform(img)\n",
    "        n_img = standardize_brightness(n_img)\n",
    "\n",
    "    #resize\n",
    "    resize = cv2.resize(n_img,(500,500),interpolation = cv2.INTER_CUBIC)\n",
    "\n",
    "    a = imgPath.split('/')\n",
    "    plt.imsave('./normalize/'+a[len(a)-2]+'/'+a[len(a)-1],resize)\n",
    "\n"
   ]
  },
  {
   "cell_type": "code",
   "execution_count": 10,
   "metadata": {},
   "outputs": [
    {
     "name": "stdout",
     "output_type": "stream",
     "text": [
      "Finished in 9345.374173839002 seconds\n"
     ]
    }
   ],
   "source": [
    "t1 = time.perf_counter()\n",
    "with concurrent.futures.ThreadPoolExecutor() as executor:\n",
    "    executor.map(stain_Normalize_safeMode, lung_n)\n",
    "t2 = time.perf_counter()\n",
    "print(f'Finished in {t2-t1} seconds')"
   ]
  },
  {
   "cell_type": "code",
   "execution_count": 8,
   "metadata": {},
   "outputs": [
    {
     "name": "stdout",
     "output_type": "stream",
     "text": [
      "Finished in 8183.0972539780005 seconds\n"
     ]
    }
   ],
   "source": [
    "t1 = time.perf_counter()\n",
    "with concurrent.futures.ThreadPoolExecutor() as executor:\n",
    "    executor.map(stain_Normalize_safeMode, lung_aca)\n",
    "t2 = time.perf_counter()\n",
    "print(f'Finished in {t2-t1} seconds')"
   ]
  },
  {
   "cell_type": "code",
   "execution_count": 9,
   "metadata": {},
   "outputs": [
    {
     "name": "stdout",
     "output_type": "stream",
     "text": [
      "Finished in 8342.126284139002 seconds\n"
     ]
    }
   ],
   "source": [
    "t1 = time.perf_counter()\n",
    "with concurrent.futures.ThreadPoolExecutor() as executor:\n",
    "    executor.map(stain_Normalize_safeMode, lung_scc)\n",
    "t2 = time.perf_counter()\n",
    "print(f'Finished in {t2-t1} seconds')"
   ]
  },
  {
   "cell_type": "code",
   "execution_count": null,
   "metadata": {},
   "outputs": [],
   "source": []
  }
 ],
 "metadata": {
  "kernelspec": {
   "display_name": "Python 3",
   "language": "python",
   "name": "python3"
  },
  "language_info": {
   "codemirror_mode": {
    "name": "ipython",
    "version": 3
   },
   "file_extension": ".py",
   "mimetype": "text/x-python",
   "name": "python",
   "nbconvert_exporter": "python",
   "pygments_lexer": "ipython3",
   "version": "3.7.7"
  }
 },
 "nbformat": 4,
 "nbformat_minor": 4
}
