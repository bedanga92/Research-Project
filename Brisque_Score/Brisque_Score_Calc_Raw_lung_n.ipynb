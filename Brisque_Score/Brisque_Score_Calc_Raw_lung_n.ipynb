{
  "nbformat": 4,
  "nbformat_minor": 0,
  "metadata": {
    "colab": {
      "name": "Brisque_Score_Calc_Raw_lung_n.ipynb",
      "provenance": []
    },
    "kernelspec": {
      "name": "python3",
      "display_name": "Python 3"
    }
  },
  "cells": [
    {
      "cell_type": "code",
      "metadata": {
        "id": "WpWDDgCMM_o3",
        "colab_type": "code",
        "colab": {
          "base_uri": "https://localhost:8080/",
          "height": 457
        },
        "outputId": "78f0df36-f1c7-4478-bf1c-380c4c9dbf32"
      },
      "source": [
        "!wget https://www.dropbox.com/s/kssgkau7q5ce66z/LC25000.zip?dl=0"
      ],
      "execution_count": 1,
      "outputs": [
        {
          "output_type": "stream",
          "text": [
            "--2020-07-10 12:33:50--  https://www.dropbox.com/s/kssgkau7q5ce66z/LC25000.zip?dl=0\n",
            "Resolving www.dropbox.com (www.dropbox.com)... 162.125.5.1, 2620:100:601d:1::a27d:501\n",
            "Connecting to www.dropbox.com (www.dropbox.com)|162.125.5.1|:443... connected.\n",
            "HTTP request sent, awaiting response... 301 Moved Permanently\n",
            "Location: /s/raw/kssgkau7q5ce66z/LC25000.zip [following]\n",
            "--2020-07-10 12:33:50--  https://www.dropbox.com/s/raw/kssgkau7q5ce66z/LC25000.zip\n",
            "Reusing existing connection to www.dropbox.com:443.\n",
            "HTTP request sent, awaiting response... 302 Found\n",
            "Location: https://uc131e04132ec0662958d7b94592.dl.dropboxusercontent.com/cd/0/inline/A7TY_gAG_oNJEv2W5l5tT9XCreICFDF21WnBAPI51MYlakjfur28zCsElFhVVsF2AOZOvoewG2RF2ExVP9uSgm8iGqYxOq7CU41eqUZTxZKnofYdF5C36LVCSYMAPZchkKg/file# [following]\n",
            "--2020-07-10 12:33:51--  https://uc131e04132ec0662958d7b94592.dl.dropboxusercontent.com/cd/0/inline/A7TY_gAG_oNJEv2W5l5tT9XCreICFDF21WnBAPI51MYlakjfur28zCsElFhVVsF2AOZOvoewG2RF2ExVP9uSgm8iGqYxOq7CU41eqUZTxZKnofYdF5C36LVCSYMAPZchkKg/file\n",
            "Resolving uc131e04132ec0662958d7b94592.dl.dropboxusercontent.com (uc131e04132ec0662958d7b94592.dl.dropboxusercontent.com)... 162.125.5.15, 2620:100:601d:15::a27d:50f\n",
            "Connecting to uc131e04132ec0662958d7b94592.dl.dropboxusercontent.com (uc131e04132ec0662958d7b94592.dl.dropboxusercontent.com)|162.125.5.15|:443... connected.\n",
            "HTTP request sent, awaiting response... 302 Found\n",
            "Location: /cd/0/inline2/A7R6iXJxzhGkodfPiGOp1UpvjYYAW91XLlNtZWPY7gkDqhMq23NYuGe4nPt1eX5EEvyXOWbG66D-vdb4drL17H2yVm7vuVuOEBQwLNMc93tMDIVn9DfBE0z61aCiU89JxyAJ82CdaDIVMQozXr_WUAVTBc2oBbL4kJnh64KaaVCF2VABi48_neHeMGyRia_gcamw-beqniPWHazPIFXpijzmn2X93e8V0vA9xZ2Kp4U36SA7QOm8Eo-TsnxwgXA49tqi4EZtkBvdtSuBPTKhIpYhfYut5YhHAPjW45CBIhGVj-djjbQFhtGeAr6JFHhpmKmt-kJC1zMWewLdpHDcYU1l9rFLUafh-qwbDDH6CxpIJg/file [following]\n",
            "--2020-07-10 12:33:51--  https://uc131e04132ec0662958d7b94592.dl.dropboxusercontent.com/cd/0/inline2/A7R6iXJxzhGkodfPiGOp1UpvjYYAW91XLlNtZWPY7gkDqhMq23NYuGe4nPt1eX5EEvyXOWbG66D-vdb4drL17H2yVm7vuVuOEBQwLNMc93tMDIVn9DfBE0z61aCiU89JxyAJ82CdaDIVMQozXr_WUAVTBc2oBbL4kJnh64KaaVCF2VABi48_neHeMGyRia_gcamw-beqniPWHazPIFXpijzmn2X93e8V0vA9xZ2Kp4U36SA7QOm8Eo-TsnxwgXA49tqi4EZtkBvdtSuBPTKhIpYhfYut5YhHAPjW45CBIhGVj-djjbQFhtGeAr6JFHhpmKmt-kJC1zMWewLdpHDcYU1l9rFLUafh-qwbDDH6CxpIJg/file\n",
            "Reusing existing connection to uc131e04132ec0662958d7b94592.dl.dropboxusercontent.com:443.\n",
            "HTTP request sent, awaiting response... 200 OK\n",
            "Length: 1890299770 (1.8G) [application/zip]\n",
            "Saving to: ‘LC25000.zip?dl=0.1’\n",
            "\n",
            "LC25000.zip?dl=0.1  100%[===================>]   1.76G  57.9MB/s    in 28s     \n",
            "\n",
            "2020-07-10 12:34:20 (64.1 MB/s) - ‘LC25000.zip?dl=0.1’ saved [1890299770/1890299770]\n",
            "\n"
          ],
          "name": "stdout"
        }
      ]
    },
    {
      "cell_type": "code",
      "metadata": {
        "id": "NY7moRSXNL-r",
        "colab_type": "code",
        "colab": {
          "base_uri": "https://localhost:8080/",
          "height": 1000
        },
        "outputId": "96aa069d-cfc0-4941-d732-bccbc4c853fc"
      },
      "source": [
        "!pip install spams\n",
        "!pip install staintools\n",
        "!pip install plotly\n",
        "!pip install tqdm\n",
        "!pip install ipywidgets\n",
        "!pip install image-quality"
      ],
      "execution_count": 2,
      "outputs": [
        {
          "output_type": "stream",
          "text": [
            "Requirement already satisfied: spams in /usr/local/lib/python3.6/dist-packages (2.6.1)\n",
            "Requirement already satisfied: scipy in /usr/local/lib/python3.6/dist-packages (from spams) (1.4.1)\n",
            "Requirement already satisfied: numpy in /usr/local/lib/python3.6/dist-packages (from spams) (1.18.5)\n",
            "Requirement already satisfied: six in /usr/local/lib/python3.6/dist-packages (from spams) (1.12.0)\n",
            "Requirement already satisfied: staintools in /usr/local/lib/python3.6/dist-packages (2.1.2)\n",
            "Requirement already satisfied: numpy in /usr/local/lib/python3.6/dist-packages (from staintools) (1.18.5)\n",
            "Requirement already satisfied: opencv-python in /usr/local/lib/python3.6/dist-packages (from staintools) (4.1.2.30)\n",
            "Requirement already satisfied: matplotlib in /usr/local/lib/python3.6/dist-packages (from staintools) (3.2.2)\n",
            "Requirement already satisfied: cycler>=0.10 in /usr/local/lib/python3.6/dist-packages (from matplotlib->staintools) (0.10.0)\n",
            "Requirement already satisfied: pyparsing!=2.0.4,!=2.1.2,!=2.1.6,>=2.0.1 in /usr/local/lib/python3.6/dist-packages (from matplotlib->staintools) (2.4.7)\n",
            "Requirement already satisfied: kiwisolver>=1.0.1 in /usr/local/lib/python3.6/dist-packages (from matplotlib->staintools) (1.2.0)\n",
            "Requirement already satisfied: python-dateutil>=2.1 in /usr/local/lib/python3.6/dist-packages (from matplotlib->staintools) (2.8.1)\n",
            "Requirement already satisfied: six in /usr/local/lib/python3.6/dist-packages (from cycler>=0.10->matplotlib->staintools) (1.12.0)\n",
            "Requirement already satisfied: plotly in /usr/local/lib/python3.6/dist-packages (4.4.1)\n",
            "Requirement already satisfied: retrying>=1.3.3 in /usr/local/lib/python3.6/dist-packages (from plotly) (1.3.3)\n",
            "Requirement already satisfied: six in /usr/local/lib/python3.6/dist-packages (from plotly) (1.12.0)\n",
            "Requirement already satisfied: tqdm in /usr/local/lib/python3.6/dist-packages (4.41.1)\n",
            "Requirement already satisfied: ipywidgets in /usr/local/lib/python3.6/dist-packages (7.5.1)\n",
            "Requirement already satisfied: ipython>=4.0.0; python_version >= \"3.3\" in /usr/local/lib/python3.6/dist-packages (from ipywidgets) (5.5.0)\n",
            "Requirement already satisfied: widgetsnbextension~=3.5.0 in /usr/local/lib/python3.6/dist-packages (from ipywidgets) (3.5.1)\n",
            "Requirement already satisfied: nbformat>=4.2.0 in /usr/local/lib/python3.6/dist-packages (from ipywidgets) (5.0.7)\n",
            "Requirement already satisfied: traitlets>=4.3.1 in /usr/local/lib/python3.6/dist-packages (from ipywidgets) (4.3.3)\n",
            "Requirement already satisfied: ipykernel>=4.5.1 in /usr/local/lib/python3.6/dist-packages (from ipywidgets) (4.10.1)\n",
            "Requirement already satisfied: prompt-toolkit<2.0.0,>=1.0.4 in /usr/local/lib/python3.6/dist-packages (from ipython>=4.0.0; python_version >= \"3.3\"->ipywidgets) (1.0.18)\n",
            "Requirement already satisfied: pexpect; sys_platform != \"win32\" in /usr/local/lib/python3.6/dist-packages (from ipython>=4.0.0; python_version >= \"3.3\"->ipywidgets) (4.8.0)\n",
            "Requirement already satisfied: pickleshare in /usr/local/lib/python3.6/dist-packages (from ipython>=4.0.0; python_version >= \"3.3\"->ipywidgets) (0.7.5)\n",
            "Requirement already satisfied: simplegeneric>0.8 in /usr/local/lib/python3.6/dist-packages (from ipython>=4.0.0; python_version >= \"3.3\"->ipywidgets) (0.8.1)\n",
            "Requirement already satisfied: decorator in /usr/local/lib/python3.6/dist-packages (from ipython>=4.0.0; python_version >= \"3.3\"->ipywidgets) (4.4.2)\n",
            "Requirement already satisfied: pygments in /usr/local/lib/python3.6/dist-packages (from ipython>=4.0.0; python_version >= \"3.3\"->ipywidgets) (2.1.3)\n",
            "Requirement already satisfied: setuptools>=18.5 in /usr/local/lib/python3.6/dist-packages (from ipython>=4.0.0; python_version >= \"3.3\"->ipywidgets) (47.3.1)\n",
            "Requirement already satisfied: notebook>=4.4.1 in /usr/local/lib/python3.6/dist-packages (from widgetsnbextension~=3.5.0->ipywidgets) (5.2.2)\n",
            "Requirement already satisfied: ipython-genutils in /usr/local/lib/python3.6/dist-packages (from nbformat>=4.2.0->ipywidgets) (0.2.0)\n",
            "Requirement already satisfied: jupyter-core in /usr/local/lib/python3.6/dist-packages (from nbformat>=4.2.0->ipywidgets) (4.6.3)\n",
            "Requirement already satisfied: jsonschema!=2.5.0,>=2.4 in /usr/local/lib/python3.6/dist-packages (from nbformat>=4.2.0->ipywidgets) (2.6.0)\n",
            "Requirement already satisfied: six in /usr/local/lib/python3.6/dist-packages (from traitlets>=4.3.1->ipywidgets) (1.12.0)\n",
            "Requirement already satisfied: tornado>=4.0 in /usr/local/lib/python3.6/dist-packages (from ipykernel>=4.5.1->ipywidgets) (4.5.3)\n",
            "Requirement already satisfied: jupyter-client in /usr/local/lib/python3.6/dist-packages (from ipykernel>=4.5.1->ipywidgets) (5.3.4)\n",
            "Requirement already satisfied: wcwidth in /usr/local/lib/python3.6/dist-packages (from prompt-toolkit<2.0.0,>=1.0.4->ipython>=4.0.0; python_version >= \"3.3\"->ipywidgets) (0.2.5)\n",
            "Requirement already satisfied: ptyprocess>=0.5 in /usr/local/lib/python3.6/dist-packages (from pexpect; sys_platform != \"win32\"->ipython>=4.0.0; python_version >= \"3.3\"->ipywidgets) (0.6.0)\n",
            "Requirement already satisfied: jinja2 in /usr/local/lib/python3.6/dist-packages (from notebook>=4.4.1->widgetsnbextension~=3.5.0->ipywidgets) (2.11.2)\n",
            "Requirement already satisfied: nbconvert in /usr/local/lib/python3.6/dist-packages (from notebook>=4.4.1->widgetsnbextension~=3.5.0->ipywidgets) (5.6.1)\n",
            "Requirement already satisfied: terminado>=0.3.3; sys_platform != \"win32\" in /usr/local/lib/python3.6/dist-packages (from notebook>=4.4.1->widgetsnbextension~=3.5.0->ipywidgets) (0.8.3)\n",
            "Requirement already satisfied: python-dateutil>=2.1 in /usr/local/lib/python3.6/dist-packages (from jupyter-client->ipykernel>=4.5.1->ipywidgets) (2.8.1)\n",
            "Requirement already satisfied: pyzmq>=13 in /usr/local/lib/python3.6/dist-packages (from jupyter-client->ipykernel>=4.5.1->ipywidgets) (19.0.1)\n",
            "Requirement already satisfied: MarkupSafe>=0.23 in /usr/local/lib/python3.6/dist-packages (from jinja2->notebook>=4.4.1->widgetsnbextension~=3.5.0->ipywidgets) (1.1.1)\n",
            "Requirement already satisfied: defusedxml in /usr/local/lib/python3.6/dist-packages (from nbconvert->notebook>=4.4.1->widgetsnbextension~=3.5.0->ipywidgets) (0.6.0)\n",
            "Requirement already satisfied: testpath in /usr/local/lib/python3.6/dist-packages (from nbconvert->notebook>=4.4.1->widgetsnbextension~=3.5.0->ipywidgets) (0.4.4)\n",
            "Requirement already satisfied: bleach in /usr/local/lib/python3.6/dist-packages (from nbconvert->notebook>=4.4.1->widgetsnbextension~=3.5.0->ipywidgets) (3.1.5)\n",
            "Requirement already satisfied: entrypoints>=0.2.2 in /usr/local/lib/python3.6/dist-packages (from nbconvert->notebook>=4.4.1->widgetsnbextension~=3.5.0->ipywidgets) (0.3)\n",
            "Requirement already satisfied: pandocfilters>=1.4.1 in /usr/local/lib/python3.6/dist-packages (from nbconvert->notebook>=4.4.1->widgetsnbextension~=3.5.0->ipywidgets) (1.4.2)\n",
            "Requirement already satisfied: mistune<2,>=0.8.1 in /usr/local/lib/python3.6/dist-packages (from nbconvert->notebook>=4.4.1->widgetsnbextension~=3.5.0->ipywidgets) (0.8.4)\n",
            "Requirement already satisfied: packaging in /usr/local/lib/python3.6/dist-packages (from bleach->nbconvert->notebook>=4.4.1->widgetsnbextension~=3.5.0->ipywidgets) (20.4)\n",
            "Requirement already satisfied: webencodings in /usr/local/lib/python3.6/dist-packages (from bleach->nbconvert->notebook>=4.4.1->widgetsnbextension~=3.5.0->ipywidgets) (0.5.1)\n",
            "Requirement already satisfied: pyparsing>=2.0.2 in /usr/local/lib/python3.6/dist-packages (from packaging->bleach->nbconvert->notebook>=4.4.1->widgetsnbextension~=3.5.0->ipywidgets) (2.4.7)\n",
            "Requirement already satisfied: image-quality in /usr/local/lib/python3.6/dist-packages (1.2.5)\n",
            "Requirement already satisfied: scikit-image>=0.15.0 in /usr/local/lib/python3.6/dist-packages (from image-quality) (0.16.2)\n",
            "Requirement already satisfied: scipy>=1.3.0 in /usr/local/lib/python3.6/dist-packages (from image-quality) (1.4.1)\n",
            "Requirement already satisfied: Pillow>=5.2.0 in /usr/local/lib/python3.6/dist-packages (from image-quality) (7.0.0)\n",
            "Requirement already satisfied: numpy>=1.16.4 in /usr/local/lib/python3.6/dist-packages (from image-quality) (1.18.5)\n",
            "Requirement already satisfied: libsvm>=3.23.0 in /usr/local/lib/python3.6/dist-packages (from image-quality) (3.23.0.4)\n",
            "Requirement already satisfied: imageio>=2.3.0 in /usr/local/lib/python3.6/dist-packages (from scikit-image>=0.15.0->image-quality) (2.4.1)\n",
            "Requirement already satisfied: networkx>=2.0 in /usr/local/lib/python3.6/dist-packages (from scikit-image>=0.15.0->image-quality) (2.4)\n",
            "Requirement already satisfied: matplotlib!=3.0.0,>=2.0.0 in /usr/local/lib/python3.6/dist-packages (from scikit-image>=0.15.0->image-quality) (3.2.2)\n",
            "Requirement already satisfied: PyWavelets>=0.4.0 in /usr/local/lib/python3.6/dist-packages (from scikit-image>=0.15.0->image-quality) (1.1.1)\n",
            "Requirement already satisfied: decorator>=4.3.0 in /usr/local/lib/python3.6/dist-packages (from networkx>=2.0->scikit-image>=0.15.0->image-quality) (4.4.2)\n",
            "Requirement already satisfied: python-dateutil>=2.1 in /usr/local/lib/python3.6/dist-packages (from matplotlib!=3.0.0,>=2.0.0->scikit-image>=0.15.0->image-quality) (2.8.1)\n",
            "Requirement already satisfied: kiwisolver>=1.0.1 in /usr/local/lib/python3.6/dist-packages (from matplotlib!=3.0.0,>=2.0.0->scikit-image>=0.15.0->image-quality) (1.2.0)\n",
            "Requirement already satisfied: cycler>=0.10 in /usr/local/lib/python3.6/dist-packages (from matplotlib!=3.0.0,>=2.0.0->scikit-image>=0.15.0->image-quality) (0.10.0)\n",
            "Requirement already satisfied: pyparsing!=2.0.4,!=2.1.2,!=2.1.6,>=2.0.1 in /usr/local/lib/python3.6/dist-packages (from matplotlib!=3.0.0,>=2.0.0->scikit-image>=0.15.0->image-quality) (2.4.7)\n",
            "Requirement already satisfied: six>=1.5 in /usr/local/lib/python3.6/dist-packages (from python-dateutil>=2.1->matplotlib!=3.0.0,>=2.0.0->scikit-image>=0.15.0->image-quality) (1.12.0)\n"
          ],
          "name": "stdout"
        }
      ]
    },
    {
      "cell_type": "code",
      "metadata": {
        "id": "Efd0nPcVNNqM",
        "colab_type": "code",
        "colab": {}
      },
      "source": [
        "import os\n",
        "import numpy as np\n",
        "import pandas as pd\n",
        "import matplotlib.pyplot as plt\n",
        "import cv2\n",
        "import zipfile\n",
        "import staintools\n",
        "import random\n",
        "import plotly.express as px\n",
        "import plotly.graph_objects as go\n",
        "import plotly.figure_factory as ff\n",
        "from plotly.subplots import make_subplots\n",
        "from tqdm import tqdm, tqdm_notebook\n",
        "#tqdm_notebook().pandas()\n",
        "\n",
        "\n",
        "#De-noising\n",
        "from skimage.restoration import denoise_nl_means, estimate_sigma\n",
        "from skimage import img_as_ubyte, img_as_float\n",
        "from skimage import io\n",
        "\n",
        "#Image Quality:\n",
        "import imquality.brisque as brisque\n",
        "\n",
        "\n",
        "#Threads\n",
        "import concurrent.futures\n",
        "\n",
        "#Time\n",
        "import time\n",
        "\n",
        "#Warnings\n",
        "import warnings\n",
        "\n",
        "%matplotlib inline"
      ],
      "execution_count": 3,
      "outputs": []
    },
    {
      "cell_type": "code",
      "metadata": {
        "id": "y1aCrIv6NPbw",
        "colab_type": "code",
        "colab": {}
      },
      "source": [
        "BASE_PATH = '/content'\n",
        "\n",
        "def extract_dataset(path):\n",
        "  #Extracting the dataset from the zip file\n",
        "\n",
        "  zip_ref = zipfile.ZipFile(path, 'r')\n",
        "  zip_ref.extractall(BASE_PATH)\n",
        "  zip_ref.close()"
      ],
      "execution_count": 4,
      "outputs": []
    },
    {
      "cell_type": "code",
      "metadata": {
        "id": "LUFM0028NQ82",
        "colab_type": "code",
        "colab": {}
      },
      "source": [
        "extract_dataset('LC25000.zip?dl=0')"
      ],
      "execution_count": 5,
      "outputs": []
    },
    {
      "cell_type": "code",
      "metadata": {
        "id": "N5OiHgXYNSjD",
        "colab_type": "code",
        "colab": {}
      },
      "source": [
        "warnings.filterwarnings(\"ignore\")"
      ],
      "execution_count": 6,
      "outputs": []
    },
    {
      "cell_type": "code",
      "metadata": {
        "id": "uiWziNjHNUBl",
        "colab_type": "code",
        "colab": {
          "base_uri": "https://localhost:8080/",
          "height": 52
        },
        "outputId": "2c5d336a-095b-4dd3-8071-abe95623b516"
      },
      "source": [
        "path = './lung_colon_image_set/lung_image_sets/'\n",
        "dir_lst=[]\n",
        "for i in tqdm(os.listdir(path)):\n",
        "    if os.path.isdir(path+i):\n",
        "        dir_lst.append(i)\n",
        "dir_lst"
      ],
      "execution_count": 7,
      "outputs": [
        {
          "output_type": "stream",
          "text": [
            "100%|██████████| 3/3 [00:00<00:00, 8245.68it/s]\n"
          ],
          "name": "stderr"
        },
        {
          "output_type": "execute_result",
          "data": {
            "text/plain": [
              "['lung_n', 'lung_aca', 'lung_scc']"
            ]
          },
          "metadata": {
            "tags": []
          },
          "execution_count": 7
        }
      ]
    },
    {
      "cell_type": "code",
      "metadata": {
        "id": "Z_ufivmONYti",
        "colab_type": "code",
        "colab": {
          "base_uri": "https://localhost:8080/",
          "height": 35
        },
        "outputId": "c36338a1-f0d0-4e57-8b1e-2e240ec56a8a"
      },
      "source": [
        "dir_lst"
      ],
      "execution_count": 8,
      "outputs": [
        {
          "output_type": "execute_result",
          "data": {
            "text/plain": [
              "['lung_n', 'lung_aca', 'lung_scc']"
            ]
          },
          "metadata": {
            "tags": []
          },
          "execution_count": 8
        }
      ]
    },
    {
      "cell_type": "code",
      "metadata": {
        "id": "ctkbac0pNaGq",
        "colab_type": "code",
        "colab": {}
      },
      "source": [
        "brisque_score_old = {'lung_aca': [],'lung_scc':[],'lung_n':[]}"
      ],
      "execution_count": 9,
      "outputs": []
    },
    {
      "cell_type": "code",
      "metadata": {
        "id": "wSXnKAJSGS8u",
        "colab_type": "code",
        "colab": {}
      },
      "source": [
        "col_name = ['Image Class','Image File','Brisque Score']\n",
        "brisque_score_raw = pd.DataFrame(columns=col_name)"
      ],
      "execution_count": 10,
      "outputs": []
    },
    {
      "cell_type": "code",
      "metadata": {
        "id": "LMsA0gtmGS_M",
        "colab_type": "code",
        "colab": {
          "base_uri": "https://localhost:8080/",
          "height": 47
        },
        "outputId": "503a3d74-53a5-4930-e51b-5b2051b2ec6b"
      },
      "source": [
        "brisque_score_raw"
      ],
      "execution_count": 11,
      "outputs": [
        {
          "output_type": "execute_result",
          "data": {
            "text/html": [
              "<div>\n",
              "<style scoped>\n",
              "    .dataframe tbody tr th:only-of-type {\n",
              "        vertical-align: middle;\n",
              "    }\n",
              "\n",
              "    .dataframe tbody tr th {\n",
              "        vertical-align: top;\n",
              "    }\n",
              "\n",
              "    .dataframe thead th {\n",
              "        text-align: right;\n",
              "    }\n",
              "</style>\n",
              "<table border=\"1\" class=\"dataframe\">\n",
              "  <thead>\n",
              "    <tr style=\"text-align: right;\">\n",
              "      <th></th>\n",
              "      <th>Image Class</th>\n",
              "      <th>Image File</th>\n",
              "      <th>Brisque Score</th>\n",
              "    </tr>\n",
              "  </thead>\n",
              "  <tbody>\n",
              "  </tbody>\n",
              "</table>\n",
              "</div>"
            ],
            "text/plain": [
              "Empty DataFrame\n",
              "Columns: [Image Class, Image File, Brisque Score]\n",
              "Index: []"
            ]
          },
          "metadata": {
            "tags": []
          },
          "execution_count": 11
        }
      ]
    },
    {
      "cell_type": "code",
      "metadata": {
        "id": "EysyBTM6GTEU",
        "colab_type": "code",
        "colab": {}
      },
      "source": [
        ""
      ],
      "execution_count": 11,
      "outputs": []
    },
    {
      "cell_type": "code",
      "metadata": {
        "id": "ngXuWAVBGTHU",
        "colab_type": "code",
        "colab": {}
      },
      "source": [
        "path='./lung_colon_image_set/lung_image_sets/'#os.listdir(path+dirs)\n",
        "def calc_brisque_score_n(dirs):\n",
        "  for i in tqdm(range(len(os.listdir(path+dirs)))):\n",
        "        imgPath = path+dirs+'/'+os.listdir(path+dirs)[i]\n",
        "        img_f = img_as_float(io.imread(imgPath))\n",
        "        #print(img_f)\n",
        "        row = [{\"Image Class\":dirs, \"Image File\t\":os.listdir(path+dirs)[i],\"Brisque Score\":brisque.score(img_f)}]\n",
        "        #print(row)\n",
        "        brisque_score_raw.loc[len(brisque_score_raw.index)]=list(row[0].values())\n",
        "        #brisque.score(img_f)\n",
        "        "
      ],
      "execution_count": 12,
      "outputs": []
    },
    {
      "cell_type": "code",
      "metadata": {
        "id": "_dAW-5vQNm8B",
        "colab_type": "code",
        "colab": {
          "base_uri": "https://localhost:8080/",
          "height": 35
        },
        "outputId": "dccd3786-64c5-4325-870f-7f19213a47cd"
      },
      "source": [
        "calc_brisque_score_n('lung_n')"
      ],
      "execution_count": 13,
      "outputs": [
        {
          "output_type": "stream",
          "text": [
            "100%|██████████| 5000/5000 [6:13:13<00:00,  4.48s/it]\n"
          ],
          "name": "stderr"
        }
      ]
    },
    {
      "cell_type": "code",
      "metadata": {
        "id": "rBpjMMrmKWlo",
        "colab_type": "code",
        "colab": {
          "base_uri": "https://localhost:8080/",
          "height": 391
        },
        "outputId": "ae3dd771-5dda-44fb-fdc8-7c768c6602d1"
      },
      "source": [
        "brisque_score_raw"
      ],
      "execution_count": 14,
      "outputs": [
        {
          "output_type": "execute_result",
          "data": {
            "text/html": [
              "<div>\n",
              "<style scoped>\n",
              "    .dataframe tbody tr th:only-of-type {\n",
              "        vertical-align: middle;\n",
              "    }\n",
              "\n",
              "    .dataframe tbody tr th {\n",
              "        vertical-align: top;\n",
              "    }\n",
              "\n",
              "    .dataframe thead th {\n",
              "        text-align: right;\n",
              "    }\n",
              "</style>\n",
              "<table border=\"1\" class=\"dataframe\">\n",
              "  <thead>\n",
              "    <tr style=\"text-align: right;\">\n",
              "      <th></th>\n",
              "      <th>Image Class</th>\n",
              "      <th>Image File</th>\n",
              "      <th>Brisque Score</th>\n",
              "    </tr>\n",
              "  </thead>\n",
              "  <tbody>\n",
              "    <tr>\n",
              "      <th>0</th>\n",
              "      <td>lung_n</td>\n",
              "      <td>lungn1933.jpeg</td>\n",
              "      <td>50.143688</td>\n",
              "    </tr>\n",
              "    <tr>\n",
              "      <th>1</th>\n",
              "      <td>lung_n</td>\n",
              "      <td>lungn2793.jpeg</td>\n",
              "      <td>43.870448</td>\n",
              "    </tr>\n",
              "    <tr>\n",
              "      <th>2</th>\n",
              "      <td>lung_n</td>\n",
              "      <td>lungn2701.jpeg</td>\n",
              "      <td>45.603386</td>\n",
              "    </tr>\n",
              "    <tr>\n",
              "      <th>3</th>\n",
              "      <td>lung_n</td>\n",
              "      <td>lungn4921.jpeg</td>\n",
              "      <td>46.680690</td>\n",
              "    </tr>\n",
              "    <tr>\n",
              "      <th>4</th>\n",
              "      <td>lung_n</td>\n",
              "      <td>lungn4135.jpeg</td>\n",
              "      <td>51.931719</td>\n",
              "    </tr>\n",
              "    <tr>\n",
              "      <th>...</th>\n",
              "      <td>...</td>\n",
              "      <td>...</td>\n",
              "      <td>...</td>\n",
              "    </tr>\n",
              "    <tr>\n",
              "      <th>4995</th>\n",
              "      <td>lung_n</td>\n",
              "      <td>lungn1190.jpeg</td>\n",
              "      <td>47.827295</td>\n",
              "    </tr>\n",
              "    <tr>\n",
              "      <th>4996</th>\n",
              "      <td>lung_n</td>\n",
              "      <td>lungn3876.jpeg</td>\n",
              "      <td>46.463497</td>\n",
              "    </tr>\n",
              "    <tr>\n",
              "      <th>4997</th>\n",
              "      <td>lung_n</td>\n",
              "      <td>lungn2910.jpeg</td>\n",
              "      <td>47.993365</td>\n",
              "    </tr>\n",
              "    <tr>\n",
              "      <th>4998</th>\n",
              "      <td>lung_n</td>\n",
              "      <td>lungn3645.jpeg</td>\n",
              "      <td>50.178818</td>\n",
              "    </tr>\n",
              "    <tr>\n",
              "      <th>4999</th>\n",
              "      <td>lung_n</td>\n",
              "      <td>lungn4641.jpeg</td>\n",
              "      <td>49.291454</td>\n",
              "    </tr>\n",
              "  </tbody>\n",
              "</table>\n",
              "<p>5000 rows × 3 columns</p>\n",
              "</div>"
            ],
            "text/plain": [
              "     Image Class      Image File  Brisque Score\n",
              "0         lung_n  lungn1933.jpeg      50.143688\n",
              "1         lung_n  lungn2793.jpeg      43.870448\n",
              "2         lung_n  lungn2701.jpeg      45.603386\n",
              "3         lung_n  lungn4921.jpeg      46.680690\n",
              "4         lung_n  lungn4135.jpeg      51.931719\n",
              "...          ...             ...            ...\n",
              "4995      lung_n  lungn1190.jpeg      47.827295\n",
              "4996      lung_n  lungn3876.jpeg      46.463497\n",
              "4997      lung_n  lungn2910.jpeg      47.993365\n",
              "4998      lung_n  lungn3645.jpeg      50.178818\n",
              "4999      lung_n  lungn4641.jpeg      49.291454\n",
              "\n",
              "[5000 rows x 3 columns]"
            ]
          },
          "metadata": {
            "tags": []
          },
          "execution_count": 14
        }
      ]
    },
    {
      "cell_type": "code",
      "metadata": {
        "id": "kxpTQiPzMQTw",
        "colab_type": "code",
        "colab": {}
      },
      "source": [
        "brisque_score_raw.to_csv('brisque_score_raw_lung_n.csv', index = False)"
      ],
      "execution_count": 16,
      "outputs": []
    },
    {
      "cell_type": "code",
      "metadata": {
        "id": "fDllQcQltxA4",
        "colab_type": "code",
        "colab": {}
      },
      "source": [
        ""
      ],
      "execution_count": null,
      "outputs": []
    }
  ]
}