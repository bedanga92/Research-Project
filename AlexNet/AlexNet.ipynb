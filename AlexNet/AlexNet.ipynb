{
  "nbformat": 4,
  "nbformat_minor": 0,
  "metadata": {
    "colab": {
      "name": "AlexNet.ipynb",
      "provenance": [],
      "collapsed_sections": []
    },
    "kernelspec": {
      "name": "python3",
      "display_name": "Python 3"
    }
  },
  "cells": [
    {
      "cell_type": "code",
      "metadata": {
        "id": "Khf5n1skMfEP",
        "colab_type": "code",
        "colab": {}
      },
      "source": [
        "try:\n",
        "  %tensorflow_version 2.x\n",
        "except Exception:\n",
        "  pass"
      ],
      "execution_count": 2,
      "outputs": []
    },
    {
      "cell_type": "markdown",
      "metadata": {
        "id": "GOB0npFNSGUq",
        "colab_type": "text"
      },
      "source": [
        "Basic Modules"
      ]
    },
    {
      "cell_type": "code",
      "metadata": {
        "id": "yDRodsPHQJc_",
        "colab_type": "code",
        "colab": {}
      },
      "source": [
        "import os\n",
        "import numpy as np\n",
        "import pandas as pd\n",
        "import cv2\n",
        "import random\n",
        "from sklearn.model_selection import train_test_split\n",
        "import matplotlib.pyplot as plt\n",
        "import tensorflow as tf\n",
        "from tensorflow import keras"
      ],
      "execution_count": 3,
      "outputs": []
    },
    {
      "cell_type": "markdown",
      "metadata": {
        "id": "1M5KZQySSJKB",
        "colab_type": "text"
      },
      "source": [
        "Importing modules for Alex net"
      ]
    },
    {
      "cell_type": "code",
      "metadata": {
        "id": "xCNYy5V1RQND",
        "colab_type": "code",
        "colab": {
          "base_uri": "https://localhost:8080/",
          "height": 35
        },
        "outputId": "dc159358-633c-47da-fcaa-df55ad5d1301"
      },
      "source": [
        "from keras.models  import Sequential\n",
        "from keras.layers import Dense, Activation, Dropout, Flatten, Conv2D, MaxPooling2D\n",
        "from keras.layers.normalization import BatchNormalization"
      ],
      "execution_count": 4,
      "outputs": [
        {
          "output_type": "stream",
          "text": [
            "Using TensorFlow backend.\n"
          ],
          "name": "stderr"
        }
      ]
    },
    {
      "cell_type": "code",
      "metadata": {
        "id": "XnaExfxEWQvi",
        "colab_type": "code",
        "colab": {
          "base_uri": "https://localhost:8080/",
          "height": 125
        },
        "outputId": "c3179c31-c56c-433a-812b-ae13f932d0dc"
      },
      "source": [
        "from google.colab import drive\n",
        "\n",
        "drive.mount('/content/drive')"
      ],
      "execution_count": 5,
      "outputs": [
        {
          "output_type": "stream",
          "text": [
            "Go to this URL in a browser: https://accounts.google.com/o/oauth2/auth?client_id=947318989803-6bn6qk8qdgf4n4g3pfee6491hc0brc4i.apps.googleusercontent.com&redirect_uri=urn%3aietf%3awg%3aoauth%3a2.0%3aoob&response_type=code&scope=email%20https%3a%2f%2fwww.googleapis.com%2fauth%2fdocs.test%20https%3a%2f%2fwww.googleapis.com%2fauth%2fdrive%20https%3a%2f%2fwww.googleapis.com%2fauth%2fdrive.photos.readonly%20https%3a%2f%2fwww.googleapis.com%2fauth%2fpeopleapi.readonly\n",
            "\n",
            "Enter your authorization code:\n",
            "··········\n",
            "Mounted at /content/drive\n"
          ],
          "name": "stdout"
        }
      ]
    },
    {
      "cell_type": "code",
      "metadata": {
        "id": "X9vogb7Zb-QE",
        "colab_type": "code",
        "colab": {
          "base_uri": "https://localhost:8080/",
          "height": 35
        },
        "outputId": "4caffdb7-0526-4912-a1b7-b42db8450904"
      },
      "source": [
        "os.listdir('/content/drive/My Drive/Research_Dataset/normalize')"
      ],
      "execution_count": 6,
      "outputs": [
        {
          "output_type": "execute_result",
          "data": {
            "text/plain": [
              "['lung_n', 'lung_aca', 'lung_scc']"
            ]
          },
          "metadata": {
            "tags": []
          },
          "execution_count": 6
        }
      ]
    },
    {
      "cell_type": "code",
      "metadata": {
        "id": "kfIDP3aqPQfi",
        "colab_type": "code",
        "colab": {}
      },
      "source": [
        "dir_class = [dirs for dirs in os.listdir('/content/drive/My Drive/Research_Dataset/normalize')]"
      ],
      "execution_count": 7,
      "outputs": []
    },
    {
      "cell_type": "code",
      "metadata": {
        "id": "6y7WB_lVPf9o",
        "colab_type": "code",
        "colab": {
          "base_uri": "https://localhost:8080/",
          "height": 35
        },
        "outputId": "6c13b0a3-1d85-4583-cb7b-ebce3f36be0d"
      },
      "source": [
        "dir_class"
      ],
      "execution_count": 8,
      "outputs": [
        {
          "output_type": "execute_result",
          "data": {
            "text/plain": [
              "['lung_n', 'lung_aca', 'lung_scc']"
            ]
          },
          "metadata": {
            "tags": []
          },
          "execution_count": 8
        }
      ]
    },
    {
      "cell_type": "code",
      "metadata": {
        "id": "B0L3o1XtPivE",
        "colab_type": "code",
        "colab": {
          "base_uri": "https://localhost:8080/",
          "height": 35
        },
        "outputId": "55d3ca91-65e9-497c-dcfa-e6d202f9ef63"
      },
      "source": [
        "directories = ['Train', 'Test','Validation']\n",
        "directories"
      ],
      "execution_count": 9,
      "outputs": [
        {
          "output_type": "execute_result",
          "data": {
            "text/plain": [
              "['Train', 'Test', 'Validation']"
            ]
          },
          "metadata": {
            "tags": []
          },
          "execution_count": 9
        }
      ]
    },
    {
      "cell_type": "code",
      "metadata": {
        "id": "njjmjJl1PmBV",
        "colab_type": "code",
        "colab": {}
      },
      "source": [
        "def make_dirs(dir_lst):\n",
        "  for j in range(len(directories)):\n",
        "    if not(os.path.exists(directories[j])):\n",
        "      os.mkdir(directories[j])\n",
        "      for i in range(len(dir_class)):\n",
        "        if not(os.path.exists(directories[j]+'/'+dir_class[i])):\n",
        "          os.mkdir(directories[j]+'/'+dir_class[i])\n",
        "        else:\n",
        "          print('Sub directory exists')\n",
        "    else:\n",
        "      print('Directory exist')"
      ],
      "execution_count": 10,
      "outputs": []
    },
    {
      "cell_type": "code",
      "metadata": {
        "id": "3uJsem8hPo8D",
        "colab_type": "code",
        "colab": {}
      },
      "source": [
        "make_dirs(directories)"
      ],
      "execution_count": 11,
      "outputs": []
    },
    {
      "cell_type": "code",
      "metadata": {
        "id": "KT1ClD-3PsE1",
        "colab_type": "code",
        "colab": {}
      },
      "source": [
        "path ='/content/drive/My Drive/Research_Dataset/normalize/'"
      ],
      "execution_count": 14,
      "outputs": []
    },
    {
      "cell_type": "code",
      "metadata": {
        "id": "Juqz_CXAPupG",
        "colab_type": "code",
        "colab": {
          "base_uri": "https://localhost:8080/",
          "height": 70
        },
        "outputId": "9dabe01a-da88-41c3-db21-b6f9e16ca4ad"
      },
      "source": [
        "for i in range(len(dir_class)):\n",
        "  if dir_class[i] == 'lung_n':\n",
        "    lung_n_lst = [imgs for imgs in os.listdir(path+dir_class[i])]\n",
        "    print(len(os.listdir(path+dir_class[i])))\n",
        "  elif dir_class[i] == 'lung_aca':\n",
        "    lung_aca_lst = [imgs for imgs in os.listdir(path+dir_class[i])]\n",
        "    print(len(os.listdir(path+dir_class[i])))\n",
        "  else:\n",
        "    lung_scc_lst = [imgs for imgs in os.listdir(path+dir_class[i])]\n",
        "    print(len(os.listdir(path+dir_class[i])))\n",
        "  "
      ],
      "execution_count": 15,
      "outputs": [
        {
          "output_type": "stream",
          "text": [
            "0\n",
            "0\n",
            "0\n"
          ],
          "name": "stdout"
        }
      ]
    },
    {
      "cell_type": "code",
      "metadata": {
        "id": "9Q6Uk1-vPxDu",
        "colab_type": "code",
        "colab": {}
      },
      "source": [
        ""
      ],
      "execution_count": null,
      "outputs": []
    }
  ]
}