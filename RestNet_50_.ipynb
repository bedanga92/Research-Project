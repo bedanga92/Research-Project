{
 "cells": [
  {
   "cell_type": "code",
   "execution_count": null,
   "metadata": {
    "colab": {
     "base_uri": "https://localhost:8080/",
     "height": 120
    },
    "colab_type": "code",
    "id": "EJvN9Qq8uMzn",
    "outputId": "0881ea86-f70e-437f-8758-7c9f1cb0b8fc"
   },
   "outputs": [
    {
     "name": "stdout",
     "output_type": "stream",
     "text": [
      "Go to this URL in a browser: https://accounts.google.com/o/oauth2/auth?client_id=947318989803-6bn6qk8qdgf4n4g3pfee6491hc0brc4i.apps.googleusercontent.com&redirect_uri=urn%3aietf%3awg%3aoauth%3a2.0%3aoob&scope=email%20https%3a%2f%2fwww.googleapis.com%2fauth%2fdocs.test%20https%3a%2f%2fwww.googleapis.com%2fauth%2fdrive%20https%3a%2f%2fwww.googleapis.com%2fauth%2fdrive.photos.readonly%20https%3a%2f%2fwww.googleapis.com%2fauth%2fpeopleapi.readonly&response_type=code\n",
      "\n",
      "Enter your authorization code:\n",
      "··········\n",
      "Mounted at /content/drive\n"
     ]
    }
   ],
   "source": [
    "#Mounting Google Drive\n",
    "from google.colab import drive\n",
    "drive.mount('/content/drive')"
   ]
  },
  {
   "cell_type": "code",
   "execution_count": null,
   "metadata": {
    "colab": {},
    "colab_type": "code",
    "id": "P9et19TcbSYO"
   },
   "outputs": [],
   "source": [
    "#Loading the LoadCNNModel.py in colab environment that contains the model definitions\n",
    "!cp /content/drive/My\\ Drive/LoadCNNModel.py /content"
   ]
  },
  {
   "cell_type": "markdown",
   "metadata": {
    "colab_type": "text",
    "id": "VlAg4bnqbiYc"
   },
   "source": [
    "Importing Modules"
   ]
  },
  {
   "cell_type": "code",
   "execution_count": null,
   "metadata": {
    "colab": {},
    "colab_type": "code",
    "id": "5cXBieLSt_vM"
   },
   "outputs": [],
   "source": [
    "import os\n",
    "import numpy as np\n",
    "import pandas as pd\n",
    "import cv2\n",
    "import tensorflow as tf\n",
    "from tensorflow import keras\n",
    "import zipfile\n",
    "import seaborn as sns\n",
    "from sklearn import metrics\n",
    "import matplotlib.pyplot as plt\n",
    "import itertools\n",
    "from tqdm import tqdm, tqdm_notebook\n",
    "from tensorflow.keras.preprocessing.image import ImageDataGenerator\n",
    "from tensorflow.keras.optimizers import Adam\n",
    "from tensorflow.keras.callbacks import EarlyStopping\n",
    "from tensorflow.keras.callbacks import ModelCheckpoint, CSVLogger\n",
    "from LoadCNNModel import loadRestNetModel"
   ]
  },
  {
   "cell_type": "code",
   "execution_count": null,
   "metadata": {
    "colab": {
     "base_uri": "https://localhost:8080/",
     "height": 34
    },
    "colab_type": "code",
    "id": "Zd1Yf6TOuIpz",
    "outputId": "367d5d05-00bf-4d4d-c476-cfac6e494e9e"
   },
   "outputs": [
    {
     "data": {
      "application/vnd.google.colaboratory.intrinsic+json": {
       "type": "string"
      },
      "text/plain": [
       "'/device:GPU:0'"
      ]
     },
     "execution_count": 4,
     "metadata": {
      "tags": []
     },
     "output_type": "execute_result"
    }
   ],
   "source": [
    "#To check if GPU is enables\n",
    "tf.test.gpu_device_name()"
   ]
  },
  {
   "cell_type": "code",
   "execution_count": null,
   "metadata": {
    "colab": {},
    "colab_type": "code",
    "id": "DJby1m0puUXU"
   },
   "outputs": [],
   "source": [
    "BASE_PATH = '/content'\n",
    "#Function for extracting dataset\n",
    "def extract_dataset(path):\n",
    " \n",
    "\n",
    "  zip_ref = zipfile.ZipFile(path, 'r')\n",
    "  zip_ref.extractall(BASE_PATH)\n",
    "  zip_ref.close()"
   ]
  },
  {
   "cell_type": "code",
   "execution_count": null,
   "metadata": {
    "colab": {},
    "colab_type": "code",
    "id": "hSCfHyRPuWp7"
   },
   "outputs": [],
   "source": [
    "#Extracting the dataset\n",
    "extract_dataset('/content/drive/My Drive/Research_Dataset/Dataset.zip')"
   ]
  },
  {
   "cell_type": "code",
   "execution_count": null,
   "metadata": {
    "colab": {},
    "colab_type": "code",
    "id": "FoEOHUfxklSZ"
   },
   "outputs": [],
   "source": [
    "#Loading the train, test and validation image labels\n",
    "train = pd.read_csv('/content/Dataset/train.csv')\n",
    "test = pd.read_csv('/content/Dataset/test.csv')\n",
    "val = pd.read_csv('/content/Dataset/val.csv')"
   ]
  },
  {
   "cell_type": "code",
   "execution_count": null,
   "metadata": {
    "colab": {
     "base_uri": "https://localhost:8080/",
     "height": 197
    },
    "colab_type": "code",
    "id": "fcWc3IXRnS78",
    "outputId": "6f0be566-9460-4be4-af91-7e51de101ef9"
   },
   "outputs": [
    {
     "data": {
      "text/html": [
       "<div>\n",
       "<style scoped>\n",
       "    .dataframe tbody tr th:only-of-type {\n",
       "        vertical-align: middle;\n",
       "    }\n",
       "\n",
       "    .dataframe tbody tr th {\n",
       "        vertical-align: top;\n",
       "    }\n",
       "\n",
       "    .dataframe thead th {\n",
       "        text-align: right;\n",
       "    }\n",
       "</style>\n",
       "<table border=\"1\" class=\"dataframe\">\n",
       "  <thead>\n",
       "    <tr style=\"text-align: right;\">\n",
       "      <th></th>\n",
       "      <th>Image</th>\n",
       "      <th>CancerType</th>\n",
       "      <th>lung_aca</th>\n",
       "      <th>lung_n</th>\n",
       "      <th>lung_scc</th>\n",
       "    </tr>\n",
       "  </thead>\n",
       "  <tbody>\n",
       "    <tr>\n",
       "      <th>0</th>\n",
       "      <td>lungaca1295.jpeg</td>\n",
       "      <td>lung_aca</td>\n",
       "      <td>1</td>\n",
       "      <td>0</td>\n",
       "      <td>0</td>\n",
       "    </tr>\n",
       "    <tr>\n",
       "      <th>1</th>\n",
       "      <td>lungaca249.jpeg</td>\n",
       "      <td>lung_aca</td>\n",
       "      <td>1</td>\n",
       "      <td>0</td>\n",
       "      <td>0</td>\n",
       "    </tr>\n",
       "    <tr>\n",
       "      <th>2</th>\n",
       "      <td>lungscc2058.jpeg</td>\n",
       "      <td>lung_scc</td>\n",
       "      <td>0</td>\n",
       "      <td>0</td>\n",
       "      <td>1</td>\n",
       "    </tr>\n",
       "    <tr>\n",
       "      <th>3</th>\n",
       "      <td>lungn4006.jpeg</td>\n",
       "      <td>lung_n</td>\n",
       "      <td>0</td>\n",
       "      <td>1</td>\n",
       "      <td>0</td>\n",
       "    </tr>\n",
       "    <tr>\n",
       "      <th>4</th>\n",
       "      <td>lungn3434.jpeg</td>\n",
       "      <td>lung_n</td>\n",
       "      <td>0</td>\n",
       "      <td>1</td>\n",
       "      <td>0</td>\n",
       "    </tr>\n",
       "  </tbody>\n",
       "</table>\n",
       "</div>"
      ],
      "text/plain": [
       "              Image CancerType  lung_aca  lung_n  lung_scc\n",
       "0  lungaca1295.jpeg   lung_aca         1       0         0\n",
       "1   lungaca249.jpeg   lung_aca         1       0         0\n",
       "2  lungscc2058.jpeg   lung_scc         0       0         1\n",
       "3    lungn4006.jpeg     lung_n         0       1         0\n",
       "4    lungn3434.jpeg     lung_n         0       1         0"
      ]
     },
     "execution_count": 8,
     "metadata": {
      "tags": []
     },
     "output_type": "execute_result"
    }
   ],
   "source": [
    "test.head()"
   ]
  },
  {
   "cell_type": "code",
   "execution_count": null,
   "metadata": {
    "colab": {
     "base_uri": "https://localhost:8080/",
     "height": 66
    },
    "colab_type": "code",
    "id": "wS2sCIe1vSCE",
    "outputId": "1157857d-40e0-446b-a027-dd347bedc778"
   },
   "outputs": [],
   "source": [
    "'''\n",
    "Image Data Generator for loading the images for Train, Test and Validation Images \n",
    "\n",
    "1. flow_from_dataframe() : loads the images listed in the dataframe loaded in the previous step\n",
    "by extracting the image name mentioned in \"x_col\" and the labels are in the \"y_col\"\n",
    "the path for the images are set in the \"directory\" argument.\n",
    "\n",
    "2. The real time augmentation are specified in the ImageDataGenerator object created for training \"dataGenerator\".\n",
    "'''\n",
    "image_size = 224\n",
    "\n",
    "dataGenerator = ImageDataGenerator(horizontal_flip=True,\n",
    "                                vertical_flip=True,\n",
    "                                rotation_range=45,\n",
    "                                width_shift_range=0.2,\n",
    "                                height_shift_range=0.2,\n",
    "                                zoom_range=[0.3,0.6],\n",
    "                                fill_mode='nearest',\n",
    "                                shear_range=0.1,\n",
    "                                rescale=1/255,\n",
    "                                )#validation_split=0.2\n",
    "\n",
    "test_Data_Generator = ImageDataGenerator(rescale=1/255)                                \n",
    "trainGenerator = dataGenerator.flow_from_dataframe(train,\n",
    "                                        directory='/content/Dataset/Train',\n",
    "                                        target_size=(image_size, image_size),\n",
    "                                        x_col=\"Image\",\n",
    "                                        y_col=['lung_aca','lung_n','lung_scc'],\n",
    "                                        class_mode='raw',\n",
    "                                        shuffle=False,\n",
    "                                        subset='training',\n",
    "                                        batch_size=32)\n",
    "validGenerator =  test_Data_Generator.flow_from_dataframe(val,\n",
    "                                        directory='/content/Dataset/Val',\n",
    "                                        target_size=(image_size,image_size),\n",
    "                                        x_col=\"Image\",\n",
    "                                        y_col=['lung_aca','lung_n','lung_scc'],\n",
    "                                        class_mode='raw',\n",
    "                                        shuffle=False,\n",
    "                                        batch_size=32)\n",
    "test_gen = test_Data_Generator.flow_from_dataframe(test,\n",
    "                                        directory='/content/Dataset/Test',\n",
    "                                        target_size=(image_size,image_size),\n",
    "                                        x_col=\"Image\",\n",
    "                                        y_col=['lung_aca','lung_n','lung_scc'],\n",
    "                                        class_mode='raw',\n",
    "                                        shuffle=False,\n",
    "                                        batch_size=32)\n"
   ]
  },
  {
   "cell_type": "code",
   "execution_count": null,
   "metadata": {
    "colab": {
     "base_uri": "https://localhost:8080/",
     "height": 50
    },
    "colab_type": "code",
    "id": "l7seKaBSvVD6",
    "outputId": "d313cb71-5e9f-4f18-f4b1-7358a28becc7"
   },
   "outputs": [
    {
     "name": "stdout",
     "output_type": "stream",
     "text": [
      "Downloading data from https://storage.googleapis.com/tensorflow/keras-applications/resnet/resnet50_weights_tf_dim_ordering_tf_kernels_notop.h5\n",
      "94773248/94765736 [==============================] - 1s 0us/step\n"
     ]
    }
   ],
   "source": [
    "#Initializing the RestNet50 model\n",
    "model = loadRestNetModel((224,224,3),3)"
   ]
  },
  {
   "cell_type": "code",
   "execution_count": null,
   "metadata": {
    "colab": {
     "base_uri": "https://localhost:8080/",
     "height": 1000
    },
    "colab_type": "code",
    "id": "4XQskyJT2gem",
    "outputId": "d022e8b0-894b-413e-84b7-ebce3e2704a2"
   },
   "outputs": [
    {
     "name": "stdout",
     "output_type": "stream",
     "text": [
      "Model: \"functional_1\"\n",
      "__________________________________________________________________________________________________\n",
      "Layer (type)                    Output Shape         Param #     Connected to                     \n",
      "==================================================================================================\n",
      "input_1 (InputLayer)            [(None, 224, 224, 3) 0                                            \n",
      "__________________________________________________________________________________________________\n",
      "conv1_pad (ZeroPadding2D)       (None, 230, 230, 3)  0           input_1[0][0]                    \n",
      "__________________________________________________________________________________________________\n",
      "conv1_conv (Conv2D)             (None, 112, 112, 64) 9472        conv1_pad[0][0]                  \n",
      "__________________________________________________________________________________________________\n",
      "conv1_bn (BatchNormalization)   (None, 112, 112, 64) 256         conv1_conv[0][0]                 \n",
      "__________________________________________________________________________________________________\n",
      "conv1_relu (Activation)         (None, 112, 112, 64) 0           conv1_bn[0][0]                   \n",
      "__________________________________________________________________________________________________\n",
      "pool1_pad (ZeroPadding2D)       (None, 114, 114, 64) 0           conv1_relu[0][0]                 \n",
      "__________________________________________________________________________________________________\n",
      "pool1_pool (MaxPooling2D)       (None, 56, 56, 64)   0           pool1_pad[0][0]                  \n",
      "__________________________________________________________________________________________________\n",
      "conv2_block1_1_conv (Conv2D)    (None, 56, 56, 64)   4160        pool1_pool[0][0]                 \n",
      "__________________________________________________________________________________________________\n",
      "conv2_block1_1_bn (BatchNormali (None, 56, 56, 64)   256         conv2_block1_1_conv[0][0]        \n",
      "__________________________________________________________________________________________________\n",
      "conv2_block1_1_relu (Activation (None, 56, 56, 64)   0           conv2_block1_1_bn[0][0]          \n",
      "__________________________________________________________________________________________________\n",
      "conv2_block1_2_conv (Conv2D)    (None, 56, 56, 64)   36928       conv2_block1_1_relu[0][0]        \n",
      "__________________________________________________________________________________________________\n",
      "conv2_block1_2_bn (BatchNormali (None, 56, 56, 64)   256         conv2_block1_2_conv[0][0]        \n",
      "__________________________________________________________________________________________________\n",
      "conv2_block1_2_relu (Activation (None, 56, 56, 64)   0           conv2_block1_2_bn[0][0]          \n",
      "__________________________________________________________________________________________________\n",
      "conv2_block1_0_conv (Conv2D)    (None, 56, 56, 256)  16640       pool1_pool[0][0]                 \n",
      "__________________________________________________________________________________________________\n",
      "conv2_block1_3_conv (Conv2D)    (None, 56, 56, 256)  16640       conv2_block1_2_relu[0][0]        \n",
      "__________________________________________________________________________________________________\n",
      "conv2_block1_0_bn (BatchNormali (None, 56, 56, 256)  1024        conv2_block1_0_conv[0][0]        \n",
      "__________________________________________________________________________________________________\n",
      "conv2_block1_3_bn (BatchNormali (None, 56, 56, 256)  1024        conv2_block1_3_conv[0][0]        \n",
      "__________________________________________________________________________________________________\n",
      "conv2_block1_add (Add)          (None, 56, 56, 256)  0           conv2_block1_0_bn[0][0]          \n",
      "                                                                 conv2_block1_3_bn[0][0]          \n",
      "__________________________________________________________________________________________________\n",
      "conv2_block1_out (Activation)   (None, 56, 56, 256)  0           conv2_block1_add[0][0]           \n",
      "__________________________________________________________________________________________________\n",
      "conv2_block2_1_conv (Conv2D)    (None, 56, 56, 64)   16448       conv2_block1_out[0][0]           \n",
      "__________________________________________________________________________________________________\n",
      "conv2_block2_1_bn (BatchNormali (None, 56, 56, 64)   256         conv2_block2_1_conv[0][0]        \n",
      "__________________________________________________________________________________________________\n",
      "conv2_block2_1_relu (Activation (None, 56, 56, 64)   0           conv2_block2_1_bn[0][0]          \n",
      "__________________________________________________________________________________________________\n",
      "conv2_block2_2_conv (Conv2D)    (None, 56, 56, 64)   36928       conv2_block2_1_relu[0][0]        \n",
      "__________________________________________________________________________________________________\n",
      "conv2_block2_2_bn (BatchNormali (None, 56, 56, 64)   256         conv2_block2_2_conv[0][0]        \n",
      "__________________________________________________________________________________________________\n",
      "conv2_block2_2_relu (Activation (None, 56, 56, 64)   0           conv2_block2_2_bn[0][0]          \n",
      "__________________________________________________________________________________________________\n",
      "conv2_block2_3_conv (Conv2D)    (None, 56, 56, 256)  16640       conv2_block2_2_relu[0][0]        \n",
      "__________________________________________________________________________________________________\n",
      "conv2_block2_3_bn (BatchNormali (None, 56, 56, 256)  1024        conv2_block2_3_conv[0][0]        \n",
      "__________________________________________________________________________________________________\n",
      "conv2_block2_add (Add)          (None, 56, 56, 256)  0           conv2_block1_out[0][0]           \n",
      "                                                                 conv2_block2_3_bn[0][0]          \n",
      "__________________________________________________________________________________________________\n",
      "conv2_block2_out (Activation)   (None, 56, 56, 256)  0           conv2_block2_add[0][0]           \n",
      "__________________________________________________________________________________________________\n",
      "conv2_block3_1_conv (Conv2D)    (None, 56, 56, 64)   16448       conv2_block2_out[0][0]           \n",
      "__________________________________________________________________________________________________\n",
      "conv2_block3_1_bn (BatchNormali (None, 56, 56, 64)   256         conv2_block3_1_conv[0][0]        \n",
      "__________________________________________________________________________________________________\n",
      "conv2_block3_1_relu (Activation (None, 56, 56, 64)   0           conv2_block3_1_bn[0][0]          \n",
      "__________________________________________________________________________________________________\n",
      "conv2_block3_2_conv (Conv2D)    (None, 56, 56, 64)   36928       conv2_block3_1_relu[0][0]        \n",
      "__________________________________________________________________________________________________\n",
      "conv2_block3_2_bn (BatchNormali (None, 56, 56, 64)   256         conv2_block3_2_conv[0][0]        \n",
      "__________________________________________________________________________________________________\n",
      "conv2_block3_2_relu (Activation (None, 56, 56, 64)   0           conv2_block3_2_bn[0][0]          \n",
      "__________________________________________________________________________________________________\n",
      "conv2_block3_3_conv (Conv2D)    (None, 56, 56, 256)  16640       conv2_block3_2_relu[0][0]        \n",
      "__________________________________________________________________________________________________\n",
      "conv2_block3_3_bn (BatchNormali (None, 56, 56, 256)  1024        conv2_block3_3_conv[0][0]        \n",
      "__________________________________________________________________________________________________\n",
      "conv2_block3_add (Add)          (None, 56, 56, 256)  0           conv2_block2_out[0][0]           \n",
      "                                                                 conv2_block3_3_bn[0][0]          \n",
      "__________________________________________________________________________________________________\n",
      "conv2_block3_out (Activation)   (None, 56, 56, 256)  0           conv2_block3_add[0][0]           \n",
      "__________________________________________________________________________________________________\n",
      "conv3_block1_1_conv (Conv2D)    (None, 28, 28, 128)  32896       conv2_block3_out[0][0]           \n",
      "__________________________________________________________________________________________________\n",
      "conv3_block1_1_bn (BatchNormali (None, 28, 28, 128)  512         conv3_block1_1_conv[0][0]        \n",
      "__________________________________________________________________________________________________\n",
      "conv3_block1_1_relu (Activation (None, 28, 28, 128)  0           conv3_block1_1_bn[0][0]          \n",
      "__________________________________________________________________________________________________\n",
      "conv3_block1_2_conv (Conv2D)    (None, 28, 28, 128)  147584      conv3_block1_1_relu[0][0]        \n",
      "__________________________________________________________________________________________________\n",
      "conv3_block1_2_bn (BatchNormali (None, 28, 28, 128)  512         conv3_block1_2_conv[0][0]        \n",
      "__________________________________________________________________________________________________\n",
      "conv3_block1_2_relu (Activation (None, 28, 28, 128)  0           conv3_block1_2_bn[0][0]          \n",
      "__________________________________________________________________________________________________\n",
      "conv3_block1_0_conv (Conv2D)    (None, 28, 28, 512)  131584      conv2_block3_out[0][0]           \n",
      "__________________________________________________________________________________________________\n",
      "conv3_block1_3_conv (Conv2D)    (None, 28, 28, 512)  66048       conv3_block1_2_relu[0][0]        \n",
      "__________________________________________________________________________________________________\n",
      "conv3_block1_0_bn (BatchNormali (None, 28, 28, 512)  2048        conv3_block1_0_conv[0][0]        \n",
      "__________________________________________________________________________________________________\n",
      "conv3_block1_3_bn (BatchNormali (None, 28, 28, 512)  2048        conv3_block1_3_conv[0][0]        \n",
      "__________________________________________________________________________________________________\n",
      "conv3_block1_add (Add)          (None, 28, 28, 512)  0           conv3_block1_0_bn[0][0]          \n",
      "                                                                 conv3_block1_3_bn[0][0]          \n",
      "__________________________________________________________________________________________________\n",
      "conv3_block1_out (Activation)   (None, 28, 28, 512)  0           conv3_block1_add[0][0]           \n",
      "__________________________________________________________________________________________________\n",
      "conv3_block2_1_conv (Conv2D)    (None, 28, 28, 128)  65664       conv3_block1_out[0][0]           \n",
      "__________________________________________________________________________________________________\n",
      "conv3_block2_1_bn (BatchNormali (None, 28, 28, 128)  512         conv3_block2_1_conv[0][0]        \n",
      "__________________________________________________________________________________________________\n",
      "conv3_block2_1_relu (Activation (None, 28, 28, 128)  0           conv3_block2_1_bn[0][0]          \n",
      "__________________________________________________________________________________________________\n",
      "conv3_block2_2_conv (Conv2D)    (None, 28, 28, 128)  147584      conv3_block2_1_relu[0][0]        \n",
      "__________________________________________________________________________________________________\n",
      "conv3_block2_2_bn (BatchNormali (None, 28, 28, 128)  512         conv3_block2_2_conv[0][0]        \n",
      "__________________________________________________________________________________________________\n",
      "conv3_block2_2_relu (Activation (None, 28, 28, 128)  0           conv3_block2_2_bn[0][0]          \n",
      "__________________________________________________________________________________________________\n",
      "conv3_block2_3_conv (Conv2D)    (None, 28, 28, 512)  66048       conv3_block2_2_relu[0][0]        \n",
      "__________________________________________________________________________________________________\n",
      "conv3_block2_3_bn (BatchNormali (None, 28, 28, 512)  2048        conv3_block2_3_conv[0][0]        \n",
      "__________________________________________________________________________________________________\n",
      "conv3_block2_add (Add)          (None, 28, 28, 512)  0           conv3_block1_out[0][0]           \n",
      "                                                                 conv3_block2_3_bn[0][0]          \n",
      "__________________________________________________________________________________________________\n",
      "conv3_block2_out (Activation)   (None, 28, 28, 512)  0           conv3_block2_add[0][0]           \n",
      "__________________________________________________________________________________________________\n",
      "conv3_block3_1_conv (Conv2D)    (None, 28, 28, 128)  65664       conv3_block2_out[0][0]           \n",
      "__________________________________________________________________________________________________\n",
      "conv3_block3_1_bn (BatchNormali (None, 28, 28, 128)  512         conv3_block3_1_conv[0][0]        \n",
      "__________________________________________________________________________________________________\n",
      "conv3_block3_1_relu (Activation (None, 28, 28, 128)  0           conv3_block3_1_bn[0][0]          \n",
      "__________________________________________________________________________________________________\n",
      "conv3_block3_2_conv (Conv2D)    (None, 28, 28, 128)  147584      conv3_block3_1_relu[0][0]        \n",
      "__________________________________________________________________________________________________\n",
      "conv3_block3_2_bn (BatchNormali (None, 28, 28, 128)  512         conv3_block3_2_conv[0][0]        \n",
      "__________________________________________________________________________________________________\n",
      "conv3_block3_2_relu (Activation (None, 28, 28, 128)  0           conv3_block3_2_bn[0][0]          \n",
      "__________________________________________________________________________________________________\n",
      "conv3_block3_3_conv (Conv2D)    (None, 28, 28, 512)  66048       conv3_block3_2_relu[0][0]        \n",
      "__________________________________________________________________________________________________\n",
      "conv3_block3_3_bn (BatchNormali (None, 28, 28, 512)  2048        conv3_block3_3_conv[0][0]        \n",
      "__________________________________________________________________________________________________\n",
      "conv3_block3_add (Add)          (None, 28, 28, 512)  0           conv3_block2_out[0][0]           \n",
      "                                                                 conv3_block3_3_bn[0][0]          \n",
      "__________________________________________________________________________________________________\n",
      "conv3_block3_out (Activation)   (None, 28, 28, 512)  0           conv3_block3_add[0][0]           \n",
      "__________________________________________________________________________________________________\n",
      "conv3_block4_1_conv (Conv2D)    (None, 28, 28, 128)  65664       conv3_block3_out[0][0]           \n",
      "__________________________________________________________________________________________________\n",
      "conv3_block4_1_bn (BatchNormali (None, 28, 28, 128)  512         conv3_block4_1_conv[0][0]        \n",
      "__________________________________________________________________________________________________\n",
      "conv3_block4_1_relu (Activation (None, 28, 28, 128)  0           conv3_block4_1_bn[0][0]          \n",
      "__________________________________________________________________________________________________\n",
      "conv3_block4_2_conv (Conv2D)    (None, 28, 28, 128)  147584      conv3_block4_1_relu[0][0]        \n",
      "__________________________________________________________________________________________________\n",
      "conv3_block4_2_bn (BatchNormali (None, 28, 28, 128)  512         conv3_block4_2_conv[0][0]        \n",
      "__________________________________________________________________________________________________\n",
      "conv3_block4_2_relu (Activation (None, 28, 28, 128)  0           conv3_block4_2_bn[0][0]          \n",
      "__________________________________________________________________________________________________\n",
      "conv3_block4_3_conv (Conv2D)    (None, 28, 28, 512)  66048       conv3_block4_2_relu[0][0]        \n",
      "__________________________________________________________________________________________________\n",
      "conv3_block4_3_bn (BatchNormali (None, 28, 28, 512)  2048        conv3_block4_3_conv[0][0]        \n",
      "__________________________________________________________________________________________________\n",
      "conv3_block4_add (Add)          (None, 28, 28, 512)  0           conv3_block3_out[0][0]           \n",
      "                                                                 conv3_block4_3_bn[0][0]          \n",
      "__________________________________________________________________________________________________\n",
      "conv3_block4_out (Activation)   (None, 28, 28, 512)  0           conv3_block4_add[0][0]           \n",
      "__________________________________________________________________________________________________\n",
      "conv4_block1_1_conv (Conv2D)    (None, 14, 14, 256)  131328      conv3_block4_out[0][0]           \n",
      "__________________________________________________________________________________________________\n",
      "conv4_block1_1_bn (BatchNormali (None, 14, 14, 256)  1024        conv4_block1_1_conv[0][0]        \n",
      "__________________________________________________________________________________________________\n",
      "conv4_block1_1_relu (Activation (None, 14, 14, 256)  0           conv4_block1_1_bn[0][0]          \n",
      "__________________________________________________________________________________________________\n",
      "conv4_block1_2_conv (Conv2D)    (None, 14, 14, 256)  590080      conv4_block1_1_relu[0][0]        \n",
      "__________________________________________________________________________________________________\n",
      "conv4_block1_2_bn (BatchNormali (None, 14, 14, 256)  1024        conv4_block1_2_conv[0][0]        \n",
      "__________________________________________________________________________________________________\n",
      "conv4_block1_2_relu (Activation (None, 14, 14, 256)  0           conv4_block1_2_bn[0][0]          \n",
      "__________________________________________________________________________________________________\n",
      "conv4_block1_0_conv (Conv2D)    (None, 14, 14, 1024) 525312      conv3_block4_out[0][0]           \n",
      "__________________________________________________________________________________________________\n",
      "conv4_block1_3_conv (Conv2D)    (None, 14, 14, 1024) 263168      conv4_block1_2_relu[0][0]        \n",
      "__________________________________________________________________________________________________\n",
      "conv4_block1_0_bn (BatchNormali (None, 14, 14, 1024) 4096        conv4_block1_0_conv[0][0]        \n",
      "__________________________________________________________________________________________________\n",
      "conv4_block1_3_bn (BatchNormali (None, 14, 14, 1024) 4096        conv4_block1_3_conv[0][0]        \n",
      "__________________________________________________________________________________________________\n",
      "conv4_block1_add (Add)          (None, 14, 14, 1024) 0           conv4_block1_0_bn[0][0]          \n",
      "                                                                 conv4_block1_3_bn[0][0]          \n",
      "__________________________________________________________________________________________________\n",
      "conv4_block1_out (Activation)   (None, 14, 14, 1024) 0           conv4_block1_add[0][0]           \n",
      "__________________________________________________________________________________________________\n",
      "conv4_block2_1_conv (Conv2D)    (None, 14, 14, 256)  262400      conv4_block1_out[0][0]           \n",
      "__________________________________________________________________________________________________\n",
      "conv4_block2_1_bn (BatchNormali (None, 14, 14, 256)  1024        conv4_block2_1_conv[0][0]        \n",
      "__________________________________________________________________________________________________\n",
      "conv4_block2_1_relu (Activation (None, 14, 14, 256)  0           conv4_block2_1_bn[0][0]          \n",
      "__________________________________________________________________________________________________\n",
      "conv4_block2_2_conv (Conv2D)    (None, 14, 14, 256)  590080      conv4_block2_1_relu[0][0]        \n",
      "__________________________________________________________________________________________________\n",
      "conv4_block2_2_bn (BatchNormali (None, 14, 14, 256)  1024        conv4_block2_2_conv[0][0]        \n",
      "__________________________________________________________________________________________________\n",
      "conv4_block2_2_relu (Activation (None, 14, 14, 256)  0           conv4_block2_2_bn[0][0]          \n",
      "__________________________________________________________________________________________________\n",
      "conv4_block2_3_conv (Conv2D)    (None, 14, 14, 1024) 263168      conv4_block2_2_relu[0][0]        \n",
      "__________________________________________________________________________________________________\n",
      "conv4_block2_3_bn (BatchNormali (None, 14, 14, 1024) 4096        conv4_block2_3_conv[0][0]        \n",
      "__________________________________________________________________________________________________\n",
      "conv4_block2_add (Add)          (None, 14, 14, 1024) 0           conv4_block1_out[0][0]           \n",
      "                                                                 conv4_block2_3_bn[0][0]          \n",
      "__________________________________________________________________________________________________\n",
      "conv4_block2_out (Activation)   (None, 14, 14, 1024) 0           conv4_block2_add[0][0]           \n",
      "__________________________________________________________________________________________________\n",
      "conv4_block3_1_conv (Conv2D)    (None, 14, 14, 256)  262400      conv4_block2_out[0][0]           \n",
      "__________________________________________________________________________________________________\n",
      "conv4_block3_1_bn (BatchNormali (None, 14, 14, 256)  1024        conv4_block3_1_conv[0][0]        \n",
      "__________________________________________________________________________________________________\n",
      "conv4_block3_1_relu (Activation (None, 14, 14, 256)  0           conv4_block3_1_bn[0][0]          \n",
      "__________________________________________________________________________________________________\n",
      "conv4_block3_2_conv (Conv2D)    (None, 14, 14, 256)  590080      conv4_block3_1_relu[0][0]        \n",
      "__________________________________________________________________________________________________\n",
      "conv4_block3_2_bn (BatchNormali (None, 14, 14, 256)  1024        conv4_block3_2_conv[0][0]        \n",
      "__________________________________________________________________________________________________\n",
      "conv4_block3_2_relu (Activation (None, 14, 14, 256)  0           conv4_block3_2_bn[0][0]          \n",
      "__________________________________________________________________________________________________\n",
      "conv4_block3_3_conv (Conv2D)    (None, 14, 14, 1024) 263168      conv4_block3_2_relu[0][0]        \n",
      "__________________________________________________________________________________________________\n",
      "conv4_block3_3_bn (BatchNormali (None, 14, 14, 1024) 4096        conv4_block3_3_conv[0][0]        \n",
      "__________________________________________________________________________________________________\n",
      "conv4_block3_add (Add)          (None, 14, 14, 1024) 0           conv4_block2_out[0][0]           \n",
      "                                                                 conv4_block3_3_bn[0][0]          \n",
      "__________________________________________________________________________________________________\n",
      "conv4_block3_out (Activation)   (None, 14, 14, 1024) 0           conv4_block3_add[0][0]           \n",
      "__________________________________________________________________________________________________\n",
      "conv4_block4_1_conv (Conv2D)    (None, 14, 14, 256)  262400      conv4_block3_out[0][0]           \n",
      "__________________________________________________________________________________________________\n",
      "conv4_block4_1_bn (BatchNormali (None, 14, 14, 256)  1024        conv4_block4_1_conv[0][0]        \n",
      "__________________________________________________________________________________________________\n",
      "conv4_block4_1_relu (Activation (None, 14, 14, 256)  0           conv4_block4_1_bn[0][0]          \n",
      "__________________________________________________________________________________________________\n",
      "conv4_block4_2_conv (Conv2D)    (None, 14, 14, 256)  590080      conv4_block4_1_relu[0][0]        \n",
      "__________________________________________________________________________________________________\n",
      "conv4_block4_2_bn (BatchNormali (None, 14, 14, 256)  1024        conv4_block4_2_conv[0][0]        \n",
      "__________________________________________________________________________________________________\n",
      "conv4_block4_2_relu (Activation (None, 14, 14, 256)  0           conv4_block4_2_bn[0][0]          \n",
      "__________________________________________________________________________________________________\n",
      "conv4_block4_3_conv (Conv2D)    (None, 14, 14, 1024) 263168      conv4_block4_2_relu[0][0]        \n",
      "__________________________________________________________________________________________________\n",
      "conv4_block4_3_bn (BatchNormali (None, 14, 14, 1024) 4096        conv4_block4_3_conv[0][0]        \n",
      "__________________________________________________________________________________________________\n",
      "conv4_block4_add (Add)          (None, 14, 14, 1024) 0           conv4_block3_out[0][0]           \n",
      "                                                                 conv4_block4_3_bn[0][0]          \n",
      "__________________________________________________________________________________________________\n",
      "conv4_block4_out (Activation)   (None, 14, 14, 1024) 0           conv4_block4_add[0][0]           \n",
      "__________________________________________________________________________________________________\n",
      "conv4_block5_1_conv (Conv2D)    (None, 14, 14, 256)  262400      conv4_block4_out[0][0]           \n",
      "__________________________________________________________________________________________________\n",
      "conv4_block5_1_bn (BatchNormali (None, 14, 14, 256)  1024        conv4_block5_1_conv[0][0]        \n",
      "__________________________________________________________________________________________________\n",
      "conv4_block5_1_relu (Activation (None, 14, 14, 256)  0           conv4_block5_1_bn[0][0]          \n",
      "__________________________________________________________________________________________________\n",
      "conv4_block5_2_conv (Conv2D)    (None, 14, 14, 256)  590080      conv4_block5_1_relu[0][0]        \n",
      "__________________________________________________________________________________________________\n",
      "conv4_block5_2_bn (BatchNormali (None, 14, 14, 256)  1024        conv4_block5_2_conv[0][0]        \n",
      "__________________________________________________________________________________________________\n",
      "conv4_block5_2_relu (Activation (None, 14, 14, 256)  0           conv4_block5_2_bn[0][0]          \n",
      "__________________________________________________________________________________________________\n",
      "conv4_block5_3_conv (Conv2D)    (None, 14, 14, 1024) 263168      conv4_block5_2_relu[0][0]        \n",
      "__________________________________________________________________________________________________\n",
      "conv4_block5_3_bn (BatchNormali (None, 14, 14, 1024) 4096        conv4_block5_3_conv[0][0]        \n",
      "__________________________________________________________________________________________________\n",
      "conv4_block5_add (Add)          (None, 14, 14, 1024) 0           conv4_block4_out[0][0]           \n",
      "                                                                 conv4_block5_3_bn[0][0]          \n",
      "__________________________________________________________________________________________________\n",
      "conv4_block5_out (Activation)   (None, 14, 14, 1024) 0           conv4_block5_add[0][0]           \n",
      "__________________________________________________________________________________________________\n",
      "conv4_block6_1_conv (Conv2D)    (None, 14, 14, 256)  262400      conv4_block5_out[0][0]           \n",
      "__________________________________________________________________________________________________\n",
      "conv4_block6_1_bn (BatchNormali (None, 14, 14, 256)  1024        conv4_block6_1_conv[0][0]        \n",
      "__________________________________________________________________________________________________\n",
      "conv4_block6_1_relu (Activation (None, 14, 14, 256)  0           conv4_block6_1_bn[0][0]          \n",
      "__________________________________________________________________________________________________\n",
      "conv4_block6_2_conv (Conv2D)    (None, 14, 14, 256)  590080      conv4_block6_1_relu[0][0]        \n",
      "__________________________________________________________________________________________________\n",
      "conv4_block6_2_bn (BatchNormali (None, 14, 14, 256)  1024        conv4_block6_2_conv[0][0]        \n",
      "__________________________________________________________________________________________________\n",
      "conv4_block6_2_relu (Activation (None, 14, 14, 256)  0           conv4_block6_2_bn[0][0]          \n",
      "__________________________________________________________________________________________________\n",
      "conv4_block6_3_conv (Conv2D)    (None, 14, 14, 1024) 263168      conv4_block6_2_relu[0][0]        \n",
      "__________________________________________________________________________________________________\n",
      "conv4_block6_3_bn (BatchNormali (None, 14, 14, 1024) 4096        conv4_block6_3_conv[0][0]        \n",
      "__________________________________________________________________________________________________\n",
      "conv4_block6_add (Add)          (None, 14, 14, 1024) 0           conv4_block5_out[0][0]           \n",
      "                                                                 conv4_block6_3_bn[0][0]          \n",
      "__________________________________________________________________________________________________\n",
      "conv4_block6_out (Activation)   (None, 14, 14, 1024) 0           conv4_block6_add[0][0]           \n",
      "__________________________________________________________________________________________________\n",
      "conv5_block1_1_conv (Conv2D)    (None, 7, 7, 512)    524800      conv4_block6_out[0][0]           \n",
      "__________________________________________________________________________________________________\n",
      "conv5_block1_1_bn (BatchNormali (None, 7, 7, 512)    2048        conv5_block1_1_conv[0][0]        \n",
      "__________________________________________________________________________________________________\n",
      "conv5_block1_1_relu (Activation (None, 7, 7, 512)    0           conv5_block1_1_bn[0][0]          \n",
      "__________________________________________________________________________________________________\n",
      "conv5_block1_2_conv (Conv2D)    (None, 7, 7, 512)    2359808     conv5_block1_1_relu[0][0]        \n",
      "__________________________________________________________________________________________________\n",
      "conv5_block1_2_bn (BatchNormali (None, 7, 7, 512)    2048        conv5_block1_2_conv[0][0]        \n",
      "__________________________________________________________________________________________________\n",
      "conv5_block1_2_relu (Activation (None, 7, 7, 512)    0           conv5_block1_2_bn[0][0]          \n",
      "__________________________________________________________________________________________________\n",
      "conv5_block1_0_conv (Conv2D)    (None, 7, 7, 2048)   2099200     conv4_block6_out[0][0]           \n",
      "__________________________________________________________________________________________________\n",
      "conv5_block1_3_conv (Conv2D)    (None, 7, 7, 2048)   1050624     conv5_block1_2_relu[0][0]        \n",
      "__________________________________________________________________________________________________\n",
      "conv5_block1_0_bn (BatchNormali (None, 7, 7, 2048)   8192        conv5_block1_0_conv[0][0]        \n",
      "__________________________________________________________________________________________________\n",
      "conv5_block1_3_bn (BatchNormali (None, 7, 7, 2048)   8192        conv5_block1_3_conv[0][0]        \n",
      "__________________________________________________________________________________________________\n",
      "conv5_block1_add (Add)          (None, 7, 7, 2048)   0           conv5_block1_0_bn[0][0]          \n",
      "                                                                 conv5_block1_3_bn[0][0]          \n",
      "__________________________________________________________________________________________________\n",
      "conv5_block1_out (Activation)   (None, 7, 7, 2048)   0           conv5_block1_add[0][0]           \n",
      "__________________________________________________________________________________________________\n",
      "conv5_block2_1_conv (Conv2D)    (None, 7, 7, 512)    1049088     conv5_block1_out[0][0]           \n",
      "__________________________________________________________________________________________________\n",
      "conv5_block2_1_bn (BatchNormali (None, 7, 7, 512)    2048        conv5_block2_1_conv[0][0]        \n",
      "__________________________________________________________________________________________________\n",
      "conv5_block2_1_relu (Activation (None, 7, 7, 512)    0           conv5_block2_1_bn[0][0]          \n",
      "__________________________________________________________________________________________________\n",
      "conv5_block2_2_conv (Conv2D)    (None, 7, 7, 512)    2359808     conv5_block2_1_relu[0][0]        \n",
      "__________________________________________________________________________________________________\n",
      "conv5_block2_2_bn (BatchNormali (None, 7, 7, 512)    2048        conv5_block2_2_conv[0][0]        \n",
      "__________________________________________________________________________________________________\n",
      "conv5_block2_2_relu (Activation (None, 7, 7, 512)    0           conv5_block2_2_bn[0][0]          \n",
      "__________________________________________________________________________________________________\n",
      "conv5_block2_3_conv (Conv2D)    (None, 7, 7, 2048)   1050624     conv5_block2_2_relu[0][0]        \n",
      "__________________________________________________________________________________________________\n",
      "conv5_block2_3_bn (BatchNormali (None, 7, 7, 2048)   8192        conv5_block2_3_conv[0][0]        \n",
      "__________________________________________________________________________________________________\n",
      "conv5_block2_add (Add)          (None, 7, 7, 2048)   0           conv5_block1_out[0][0]           \n",
      "                                                                 conv5_block2_3_bn[0][0]          \n",
      "__________________________________________________________________________________________________\n",
      "conv5_block2_out (Activation)   (None, 7, 7, 2048)   0           conv5_block2_add[0][0]           \n",
      "__________________________________________________________________________________________________\n",
      "conv5_block3_1_conv (Conv2D)    (None, 7, 7, 512)    1049088     conv5_block2_out[0][0]           \n",
      "__________________________________________________________________________________________________\n",
      "conv5_block3_1_bn (BatchNormali (None, 7, 7, 512)    2048        conv5_block3_1_conv[0][0]        \n",
      "__________________________________________________________________________________________________\n",
      "conv5_block3_1_relu (Activation (None, 7, 7, 512)    0           conv5_block3_1_bn[0][0]          \n",
      "__________________________________________________________________________________________________\n",
      "conv5_block3_2_conv (Conv2D)    (None, 7, 7, 512)    2359808     conv5_block3_1_relu[0][0]        \n",
      "__________________________________________________________________________________________________\n",
      "conv5_block3_2_bn (BatchNormali (None, 7, 7, 512)    2048        conv5_block3_2_conv[0][0]        \n",
      "__________________________________________________________________________________________________\n",
      "conv5_block3_2_relu (Activation (None, 7, 7, 512)    0           conv5_block3_2_bn[0][0]          \n",
      "__________________________________________________________________________________________________\n",
      "conv5_block3_3_conv (Conv2D)    (None, 7, 7, 2048)   1050624     conv5_block3_2_relu[0][0]        \n",
      "__________________________________________________________________________________________________\n",
      "conv5_block3_3_bn (BatchNormali (None, 7, 7, 2048)   8192        conv5_block3_3_conv[0][0]        \n",
      "__________________________________________________________________________________________________\n",
      "conv5_block3_add (Add)          (None, 7, 7, 2048)   0           conv5_block2_out[0][0]           \n",
      "                                                                 conv5_block3_3_bn[0][0]          \n",
      "__________________________________________________________________________________________________\n",
      "conv5_block3_out (Activation)   (None, 7, 7, 2048)   0           conv5_block3_add[0][0]           \n",
      "__________________________________________________________________________________________________\n",
      "flatten (Flatten)               (None, 100352)       0           conv5_block3_out[0][0]           \n",
      "__________________________________________________________________________________________________\n",
      "dense (Dense)                   (None, 1024)         102761472   flatten[0][0]                    \n",
      "__________________________________________________________________________________________________\n",
      "dropout (Dropout)               (None, 1024)         0           dense[0][0]                      \n",
      "__________________________________________________________________________________________________\n",
      "dense_1 (Dense)                 (None, 3)            3075        dropout[0][0]                    \n",
      "==================================================================================================\n",
      "Total params: 126,352,259\n",
      "Trainable params: 102,764,547\n",
      "Non-trainable params: 23,587,712\n",
      "__________________________________________________________________________________________________\n"
     ]
    }
   ],
   "source": [
    "#Printing the model summary\n",
    "model.summary()"
   ]
  },
  {
   "cell_type": "code",
   "execution_count": null,
   "metadata": {
    "colab": {},
    "colab_type": "code",
    "id": "Dgl-pogcvptW"
   },
   "outputs": [],
   "source": [
    "#Initilizing the optimizer \n",
    "adam = Adam(lr=0.0001)\n",
    "model.compile(loss='categorical_crossentropy',optimizer=adam, metrics=['accuracy'])"
   ]
  },
  {
   "cell_type": "code",
   "execution_count": null,
   "metadata": {
    "colab": {},
    "colab_type": "code",
    "id": "qCgCbMrKvsYU"
   },
   "outputs": [],
   "source": [
    "#Initializing the callbacks\n",
    "log = CSVLogger('RestNet50.csv')\n",
    "lr_decay = LearningRateScheduler(schedule=lambda epoch: 0.0001 * np.exp(-epoch / 10.))\n",
    "mc = ModelCheckpoint('./drive/My Drive/rp_resnet50_model.h5', monitor='val_accuracy', mode='max', verbose=1, save_best_only=True)"
   ]
  },
  {
   "cell_type": "code",
   "execution_count": null,
   "metadata": {
    "colab": {
     "base_uri": "https://localhost:8080/",
     "height": 1000
    },
    "colab_type": "code",
    "id": "s1jHpjRWvxpq",
    "outputId": "d646e8c7-c2b1-4b27-a068-246d16be1382"
   },
   "outputs": [
    {
     "name": "stdout",
     "output_type": "stream",
     "text": [
      "WARNING:tensorflow:From <ipython-input-19-1168709a81f3>:8: Model.fit_generator (from tensorflow.python.keras.engine.training) is deprecated and will be removed in a future version.\n",
      "Instructions for updating:\n",
      "Please use Model.fit, which supports generators.\n",
      "Epoch 1/30\n",
      "299/299 [==============================] - ETA: 0s - loss: 0.9240 - accuracy: 0.6518\n",
      "Epoch 00001: val_accuracy improved from -inf to 0.79125, saving model to /content/drive/My Drive/Research_Dataset/ResNet50/resnet50_model.h5\n",
      "299/299 [==============================] - 158s 530ms/step - loss: 0.9240 - accuracy: 0.6518 - val_loss: 0.5355 - val_accuracy: 0.7912\n",
      "Epoch 2/30\n",
      "299/299 [==============================] - ETA: 0s - loss: 0.5558 - accuracy: 0.7783\n",
      "Epoch 00002: val_accuracy improved from 0.79125 to 0.83917, saving model to /content/drive/My Drive/Research_Dataset/ResNet50/resnet50_model.h5\n",
      "299/299 [==============================] - 163s 545ms/step - loss: 0.5558 - accuracy: 0.7783 - val_loss: 0.4597 - val_accuracy: 0.8392\n",
      "Epoch 3/30\n",
      "299/299 [==============================] - ETA: 0s - loss: 0.4878 - accuracy: 0.8091\n",
      "Epoch 00003: val_accuracy improved from 0.83917 to 0.86125, saving model to /content/drive/My Drive/Research_Dataset/ResNet50/resnet50_model.h5\n",
      "299/299 [==============================] - 164s 549ms/step - loss: 0.4878 - accuracy: 0.8091 - val_loss: 0.4051 - val_accuracy: 0.8612\n",
      "Epoch 4/30\n",
      "299/299 [==============================] - ETA: 0s - loss: 0.4040 - accuracy: 0.8546\n",
      "Epoch 00004: val_accuracy improved from 0.86125 to 0.87333, saving model to /content/drive/My Drive/Research_Dataset/ResNet50/resnet50_model.h5\n",
      "299/299 [==============================] - 161s 540ms/step - loss: 0.4040 - accuracy: 0.8546 - val_loss: 0.3357 - val_accuracy: 0.8733\n",
      "Epoch 5/30\n",
      "299/299 [==============================] - ETA: 0s - loss: 0.3750 - accuracy: 0.8624\n",
      "Epoch 00005: val_accuracy improved from 0.87333 to 0.88833, saving model to /content/drive/My Drive/Research_Dataset/ResNet50/resnet50_model.h5\n",
      "299/299 [==============================] - 167s 559ms/step - loss: 0.3750 - accuracy: 0.8624 - val_loss: 0.3221 - val_accuracy: 0.8883\n",
      "Epoch 6/30\n",
      "299/299 [==============================] - ETA: 0s - loss: 0.3461 - accuracy: 0.8682\n",
      "Epoch 00006: val_accuracy improved from 0.88833 to 0.90792, saving model to /content/drive/My Drive/Research_Dataset/ResNet50/resnet50_model.h5\n",
      "299/299 [==============================] - 165s 552ms/step - loss: 0.3461 - accuracy: 0.8682 - val_loss: 0.2608 - val_accuracy: 0.9079\n",
      "Epoch 7/30\n",
      "299/299 [==============================] - ETA: 0s - loss: 0.3224 - accuracy: 0.8795\n",
      "Epoch 00007: val_accuracy did not improve from 0.90792\n",
      "299/299 [==============================] - 157s 526ms/step - loss: 0.3224 - accuracy: 0.8795 - val_loss: 0.3393 - val_accuracy: 0.8850\n",
      "Epoch 8/30\n",
      "299/299 [==============================] - ETA: 0s - loss: 0.3050 - accuracy: 0.8911\n",
      "Epoch 00008: val_accuracy improved from 0.90792 to 0.92542, saving model to /content/drive/My Drive/Research_Dataset/ResNet50/resnet50_model.h5\n",
      "299/299 [==============================] - 162s 542ms/step - loss: 0.3050 - accuracy: 0.8911 - val_loss: 0.2276 - val_accuracy: 0.9254\n",
      "Epoch 9/30\n",
      "299/299 [==============================] - ETA: 0s - loss: 0.2770 - accuracy: 0.8993\n",
      "Epoch 00009: val_accuracy did not improve from 0.92542\n",
      "299/299 [==============================] - 157s 524ms/step - loss: 0.2770 - accuracy: 0.8993 - val_loss: 0.3277 - val_accuracy: 0.8658\n",
      "Epoch 10/30\n",
      "299/299 [==============================] - ETA: 0s - loss: 0.2557 - accuracy: 0.9098\n",
      "Epoch 00010: val_accuracy did not improve from 0.92542\n",
      "299/299 [==============================] - 154s 516ms/step - loss: 0.2557 - accuracy: 0.9098 - val_loss: 0.2007 - val_accuracy: 0.9250\n",
      "Epoch 11/30\n",
      "299/299 [==============================] - ETA: 0s - loss: 0.2791 - accuracy: 0.8990\n",
      "Epoch 00011: val_accuracy did not improve from 0.92542\n",
      "299/299 [==============================] - 155s 517ms/step - loss: 0.2791 - accuracy: 0.8990 - val_loss: 0.2213 - val_accuracy: 0.9108\n",
      "Epoch 12/30\n",
      "299/299 [==============================] - ETA: 0s - loss: 0.2586 - accuracy: 0.9086\n",
      "Epoch 00012: val_accuracy did not improve from 0.92542\n",
      "299/299 [==============================] - 154s 515ms/step - loss: 0.2586 - accuracy: 0.9086 - val_loss: 0.2583 - val_accuracy: 0.9154\n",
      "Epoch 13/30\n",
      "299/299 [==============================] - ETA: 0s - loss: 0.2455 - accuracy: 0.9135\n",
      "Epoch 00013: val_accuracy did not improve from 0.92542\n",
      "299/299 [==============================] - 155s 517ms/step - loss: 0.2455 - accuracy: 0.9135 - val_loss: 0.2525 - val_accuracy: 0.9029\n",
      "Epoch 14/30\n",
      "299/299 [==============================] - ETA: 0s - loss: 0.2465 - accuracy: 0.9086\n",
      "Epoch 00014: val_accuracy did not improve from 0.92542\n",
      "299/299 [==============================] - 154s 517ms/step - loss: 0.2465 - accuracy: 0.9086 - val_loss: 0.1881 - val_accuracy: 0.9250\n",
      "Epoch 15/30\n",
      "299/299 [==============================] - ETA: 0s - loss: 0.2339 - accuracy: 0.9175\n",
      "Epoch 00015: val_accuracy did not improve from 0.92542\n",
      "299/299 [==============================] - 155s 519ms/step - loss: 0.2339 - accuracy: 0.9175 - val_loss: 0.2752 - val_accuracy: 0.8950\n",
      "Epoch 16/30\n",
      "299/299 [==============================] - ETA: 0s - loss: 0.2341 - accuracy: 0.9134\n",
      "Epoch 00016: val_accuracy improved from 0.92542 to 0.94167, saving model to /content/drive/My Drive/Research_Dataset/ResNet50/resnet50_model.h5\n",
      "299/299 [==============================] - 161s 538ms/step - loss: 0.2341 - accuracy: 0.9134 - val_loss: 0.1771 - val_accuracy: 0.9417\n",
      "Epoch 17/30\n",
      "299/299 [==============================] - ETA: 0s - loss: 0.2062 - accuracy: 0.9295\n",
      "Epoch 00017: val_accuracy did not improve from 0.94167\n",
      "299/299 [==============================] - 159s 531ms/step - loss: 0.2062 - accuracy: 0.9295 - val_loss: 0.3363 - val_accuracy: 0.8829\n",
      "Epoch 18/30\n",
      "299/299 [==============================] - ETA: 0s - loss: 0.2127 - accuracy: 0.9248\n",
      "Epoch 00018: val_accuracy did not improve from 0.94167\n",
      "299/299 [==============================] - 154s 516ms/step - loss: 0.2127 - accuracy: 0.9248 - val_loss: 0.2151 - val_accuracy: 0.9250\n",
      "Epoch 19/30\n",
      "299/299 [==============================] - ETA: 0s - loss: 0.2131 - accuracy: 0.9226\n",
      "Epoch 00019: val_accuracy did not improve from 0.94167\n",
      "299/299 [==============================] - 154s 516ms/step - loss: 0.2131 - accuracy: 0.9226 - val_loss: 0.2186 - val_accuracy: 0.9100\n",
      "Epoch 20/30\n",
      "299/299 [==============================] - ETA: 0s - loss: 0.2048 - accuracy: 0.9270\n",
      "Epoch 00020: val_accuracy improved from 0.94167 to 0.94958, saving model to /content/drive/My Drive/Research_Dataset/ResNet50/resnet50_model.h5\n",
      "299/299 [==============================] - 160s 535ms/step - loss: 0.2048 - accuracy: 0.9270 - val_loss: 0.1499 - val_accuracy: 0.9496\n",
      "Epoch 21/30\n",
      "299/299 [==============================] - ETA: 0s - loss: 0.1971 - accuracy: 0.9306\n",
      "Epoch 00021: val_accuracy did not improve from 0.94958\n",
      "299/299 [==============================] - 160s 534ms/step - loss: 0.1971 - accuracy: 0.9306 - val_loss: 0.2595 - val_accuracy: 0.9067\n",
      "Epoch 22/30\n",
      "299/299 [==============================] - ETA: 0s - loss: 0.1862 - accuracy: 0.9354\n",
      "Epoch 00022: val_accuracy did not improve from 0.94958\n",
      "299/299 [==============================] - 159s 530ms/step - loss: 0.1862 - accuracy: 0.9354 - val_loss: 0.3948 - val_accuracy: 0.8433\n",
      "Epoch 23/30\n",
      "299/299 [==============================] - ETA: 0s - loss: 0.1913 - accuracy: 0.9329\n",
      "Epoch 00023: val_accuracy improved from 0.94958 to 0.95583, saving model to /content/drive/My Drive/Research_Dataset/ResNet50/resnet50_model.h5\n",
      "299/299 [==============================] - 166s 555ms/step - loss: 0.1913 - accuracy: 0.9329 - val_loss: 0.1365 - val_accuracy: 0.9558\n",
      "Epoch 24/30\n",
      "299/299 [==============================] - ETA: 0s - loss: 0.1830 - accuracy: 0.9348\n",
      "Epoch 00024: val_accuracy did not improve from 0.95583\n",
      "299/299 [==============================] - 162s 540ms/step - loss: 0.1830 - accuracy: 0.9348 - val_loss: 0.1688 - val_accuracy: 0.9358\n",
      "Epoch 25/30\n",
      "299/299 [==============================] - ETA: 0s - loss: 0.1979 - accuracy: 0.9287\n",
      "Epoch 00025: val_accuracy did not improve from 0.95583\n",
      "299/299 [==============================] - 158s 527ms/step - loss: 0.1979 - accuracy: 0.9287 - val_loss: 0.1708 - val_accuracy: 0.9404\n",
      "Epoch 26/30\n",
      "299/299 [==============================] - ETA: 0s - loss: 0.1844 - accuracy: 0.9360\n",
      "Epoch 00026: val_accuracy did not improve from 0.95583\n",
      "299/299 [==============================] - 157s 525ms/step - loss: 0.1844 - accuracy: 0.9360 - val_loss: 0.1369 - val_accuracy: 0.9533\n",
      "Epoch 27/30\n",
      "299/299 [==============================] - ETA: 0s - loss: 0.1573 - accuracy: 0.9430\n",
      "Epoch 00027: val_accuracy did not improve from 0.95583\n",
      "299/299 [==============================] - 155s 519ms/step - loss: 0.1573 - accuracy: 0.9430 - val_loss: 0.1500 - val_accuracy: 0.9475\n",
      "Epoch 28/30\n",
      "299/299 [==============================] - ETA: 0s - loss: 0.1853 - accuracy: 0.9364\n",
      "Epoch 00028: val_accuracy did not improve from 0.95583\n",
      "299/299 [==============================] - 154s 517ms/step - loss: 0.1853 - accuracy: 0.9364 - val_loss: 0.2163 - val_accuracy: 0.9242\n",
      "Epoch 29/30\n",
      "299/299 [==============================] - ETA: 0s - loss: 0.1826 - accuracy: 0.9342\n",
      "Epoch 00029: val_accuracy did not improve from 0.95583\n",
      "299/299 [==============================] - 155s 517ms/step - loss: 0.1826 - accuracy: 0.9342 - val_loss: 0.1715 - val_accuracy: 0.9375\n",
      "Epoch 30/30\n",
      "299/299 [==============================] - ETA: 0s - loss: 0.1600 - accuracy: 0.9425\n",
      "Epoch 00030: val_accuracy did not improve from 0.95583\n",
      "299/299 [==============================] - 156s 522ms/step - loss: 0.1600 - accuracy: 0.9425 - val_loss: 0.1787 - val_accuracy: 0.9358\n"
     ]
    }
   ],
   "source": [
    "#Training the RestNet model\n",
    "train_step = trainGenerator.n//trainGenerator.batch_size\n",
    "val_step = validGenerator.n//validGenerator.batch_size\n",
    "history = model.fit_generator(generator=trainGenerator,\n",
    "                                steps_per_epoch=train_step,\n",
    "                                validation_data=validGenerator,\n",
    "                                validation_steps=val_step,\n",
    "                                epochs=30,callbacks=[log, mc])\n",
    "\n"
   ]
  },
  {
   "cell_type": "code",
   "execution_count": null,
   "metadata": {
    "colab": {
     "base_uri": "https://localhost:8080/",
     "height": 621
    },
    "colab_type": "code",
    "id": "q4SD0_qfwLXs",
    "outputId": "5c0d732d-9591-4db5-8e79-130ddc45c5b5"
   },
   "outputs": [
    {
     "data": {
      "image/png": "[encoded data removed]",
      "text/plain": [
       "<Figure size 1440x720 with 1 Axes>"
      ]
     },
     "metadata": {
      "needs_background": "light",
      "tags": []
     },
     "output_type": "display_data"
    }
   ],
   "source": [
    "#Plotting the train and validation accuracy curve\n",
    "plt.figure(figsize=(20,10))\n",
    "plt.plot(history.history['accuracy'],linewidth=3.0)\n",
    "plt.plot(history.history['val_accuracy'],linewidth=3.0)\n",
    "plt.title('model accuracy')\n",
    "plt.ylabel('accuracy')\n",
    "plt.xlabel('epoch')\n",
    "plt.legend(['train', 'validation'], loc='upper left')\n",
    "plt.show()"
   ]
  },
  {
   "cell_type": "code",
   "execution_count": null,
   "metadata": {
    "colab": {
     "base_uri": "https://localhost:8080/",
     "height": 621
    },
    "colab_type": "code",
    "id": "A1TL60gRwLaa",
    "outputId": "71a96e8c-00e9-4146-edf7-714109257710"
   },
   "outputs": [
    {
     "data": {
      "image/png": "[encoded data removed]",
      "text/plain": [
       "<Figure size 1440x720 with 1 Axes>"
      ]
     },
     "metadata": {
      "needs_background": "light",
      "tags": []
     },
     "output_type": "display_data"
    }
   ],
   "source": [
    "#Plotting the training and validation loss curve\n",
    "plt.figure(figsize=(20,10))\n",
    "plt.plot(history.history['loss'], color='black',linewidth=3.0)\n",
    "plt.plot(history.history['val_loss'],color='red',linewidth=2.0)\n",
    "plt.title('model loss')\n",
    "plt.ylabel('loss')\n",
    "plt.xlabel('epoch')\n",
    "plt.legend(['train', 'validation'], loc='upper left')\n",
    "plt.show()"
   ]
  },
  {
   "cell_type": "code",
   "execution_count": null,
   "metadata": {
    "colab": {},
    "colab_type": "code",
    "id": "nSzpFNFlYRh5"
   },
   "outputs": [],
   "source": [
    "#Loading the model for evaluation\n",
    "from keras.models import  load_model\n",
    "model = load_model('/content/drive/My Drive/rp_resnet50_model.h5')"
   ]
  },
  {
   "cell_type": "code",
   "execution_count": null,
   "metadata": {
    "colab": {
     "base_uri": "https://localhost:8080/",
     "height": 120
    },
    "colab_type": "code",
    "id": "vmyij6DhwLdG",
    "outputId": "f62224e5-e0a0-435c-8fcd-10be4de508eb"
   },
   "outputs": [
    {
     "name": "stdout",
     "output_type": "stream",
     "text": [
      "WARNING:tensorflow:From <ipython-input-12-cd27fd2ade14>:2: Model.evaluate_generator (from tensorflow.python.keras.engine.training) is deprecated and will be removed in a future version.\n",
      "Instructions for updating:\n",
      "Please use Model.evaluate, which supports generators.\n",
      "94/94 [==============================] - 17s 178ms/step - loss: 0.1293 - accuracy: 0.9550\n",
      "Testing Accuracy :0.9549999833106995 Testing loss : 0.12926195561885834\n"
     ]
    }
   ],
   "source": [
    "#Evaluating the test accuracy\n",
    "test_pred = model.evaluate_generator(test_gen,verbose=1)\n",
    "print(\"Testing Accuracy :\"+str(test_pred[1])+\" Testing loss : \"+str(test_pred[0]))"
   ]
  },
  {
   "cell_type": "code",
   "execution_count": null,
   "metadata": {
    "colab": {
     "base_uri": "https://localhost:8080/",
     "height": 86
    },
    "colab_type": "code",
    "id": "YqGB8MLbks9w",
    "outputId": "83d072bc-a1ce-4709-9eec-308be0c76936"
   },
   "outputs": [
    {
     "name": "stdout",
     "output_type": "stream",
     "text": [
      " 2/94 [..............................] - ETA: 8sWARNING:tensorflow:Callbacks method `on_predict_batch_end` is slow compared to the batch time (batch time: 0.0687s vs `on_predict_batch_end` time: 0.1063s). Check your callbacks.\n",
      "94/94 [==============================] - 17s 176ms/step\n"
     ]
    },
    {
     "data": {
      "text/plain": [
       "array([0.9622903 , 0.02615528, 0.01155445], dtype=float32)"
      ]
     },
     "execution_count": 13,
     "metadata": {
      "tags": []
     },
     "output_type": "execute_result"
    }
   ],
   "source": [
    "#Extracting the prediction made by the model\n",
    "testin_predictions = model.predict(test_gen,verbose=1)\n",
    "testin_predictions[0]"
   ]
  },
  {
   "cell_type": "code",
   "execution_count": null,
   "metadata": {
    "colab": {
     "base_uri": "https://localhost:8080/",
     "height": 33
    },
    "colab_type": "code",
    "id": "DrrE744wktDE",
    "outputId": "db959077-e13f-47d4-fd50-9530dd16b33a"
   },
   "outputs": [
    {
     "data": {
      "text/plain": [
       "array([ True, False, False])"
      ]
     },
     "execution_count": 14,
     "metadata": {
      "tags": []
     },
     "output_type": "execute_result"
    }
   ],
   "source": [
    "testin_predictionsb = (testin_predictions>0.5)\n",
    "testin_predictionsb[0]"
   ]
  },
  {
   "cell_type": "markdown",
   "metadata": {
    "colab_type": "text",
    "id": "2lClcK2OgIHq"
   },
   "source": [
    "### Converting the prediction into string labels\n",
    "\n",
    "The predictions are converted from label encodings to actual string labels.\n",
    "\"result\" dataframe is created which has the predictied values\n"
   ]
  },
  {
   "cell_type": "code",
   "execution_count": null,
   "metadata": {
    "colab": {},
    "colab_type": "code",
    "id": "DhWqbsHWktBK"
   },
   "outputs": [],
   "source": [
    "predictions = testin_predictionsb.astype(int)"
   ]
  },
  {
   "cell_type": "code",
   "execution_count": null,
   "metadata": {
    "colab": {
     "base_uri": "https://localhost:8080/",
     "height": 197
    },
    "colab_type": "code",
    "id": "nwNj3waFozYH",
    "outputId": "9a7da315-61f0-4bd8-a842-f3e6b0dab826"
   },
   "outputs": [
    {
     "data": {
      "text/html": [
       "<div>\n",
       "<style scoped>\n",
       "    .dataframe tbody tr th:only-of-type {\n",
       "        vertical-align: middle;\n",
       "    }\n",
       "\n",
       "    .dataframe tbody tr th {\n",
       "        vertical-align: top;\n",
       "    }\n",
       "\n",
       "    .dataframe thead th {\n",
       "        text-align: right;\n",
       "    }\n",
       "</style>\n",
       "<table border=\"1\" class=\"dataframe\">\n",
       "  <thead>\n",
       "    <tr style=\"text-align: right;\">\n",
       "      <th></th>\n",
       "      <th>Image</th>\n",
       "      <th>lung_aca</th>\n",
       "      <th>lung_n</th>\n",
       "      <th>lung_scc</th>\n",
       "    </tr>\n",
       "  </thead>\n",
       "  <tbody>\n",
       "    <tr>\n",
       "      <th>0</th>\n",
       "      <td>lungaca1295.jpeg</td>\n",
       "      <td>1</td>\n",
       "      <td>0</td>\n",
       "      <td>0</td>\n",
       "    </tr>\n",
       "    <tr>\n",
       "      <th>1</th>\n",
       "      <td>lungaca249.jpeg</td>\n",
       "      <td>1</td>\n",
       "      <td>0</td>\n",
       "      <td>0</td>\n",
       "    </tr>\n",
       "    <tr>\n",
       "      <th>2</th>\n",
       "      <td>lungscc2058.jpeg</td>\n",
       "      <td>0</td>\n",
       "      <td>0</td>\n",
       "      <td>1</td>\n",
       "    </tr>\n",
       "    <tr>\n",
       "      <th>3</th>\n",
       "      <td>lungn4006.jpeg</td>\n",
       "      <td>0</td>\n",
       "      <td>1</td>\n",
       "      <td>0</td>\n",
       "    </tr>\n",
       "    <tr>\n",
       "      <th>4</th>\n",
       "      <td>lungn3434.jpeg</td>\n",
       "      <td>0</td>\n",
       "      <td>1</td>\n",
       "      <td>0</td>\n",
       "    </tr>\n",
       "  </tbody>\n",
       "</table>\n",
       "</div>"
      ],
      "text/plain": [
       "              Image  lung_aca  lung_n  lung_scc\n",
       "0  lungaca1295.jpeg         1       0         0\n",
       "1   lungaca249.jpeg         1       0         0\n",
       "2  lungscc2058.jpeg         0       0         1\n",
       "3    lungn4006.jpeg         0       1         0\n",
       "4    lungn3434.jpeg         0       1         0"
      ]
     },
     "execution_count": 16,
     "metadata": {
      "tags": []
     },
     "output_type": "execute_result"
    }
   ],
   "source": [
    "columns = ['lung_aca', 'lung_n', 'lung_scc']\n",
    "\n",
    "results = pd.DataFrame(predictions, columns=columns)\n",
    "results['Image'] = test_gen.filenames\n",
    "ordered_cols = ['Image'] + columns\n",
    "results = results[ordered_cols]\n",
    "results.head()"
   ]
  },
  {
   "cell_type": "code",
   "execution_count": null,
   "metadata": {
    "colab": {
     "base_uri": "https://localhost:8080/",
     "height": 197
    },
    "colab_type": "code",
    "id": "Dgl_DX-aozbF",
    "outputId": "e7e1599e-7ab7-48b8-caee-fffca9e5f801"
   },
   "outputs": [
    {
     "data": {
      "text/html": [
       "<div>\n",
       "<style scoped>\n",
       "    .dataframe tbody tr th:only-of-type {\n",
       "        vertical-align: middle;\n",
       "    }\n",
       "\n",
       "    .dataframe tbody tr th {\n",
       "        vertical-align: top;\n",
       "    }\n",
       "\n",
       "    .dataframe thead th {\n",
       "        text-align: right;\n",
       "    }\n",
       "</style>\n",
       "<table border=\"1\" class=\"dataframe\">\n",
       "  <thead>\n",
       "    <tr style=\"text-align: right;\">\n",
       "      <th></th>\n",
       "      <th>Image</th>\n",
       "      <th>lung_aca</th>\n",
       "      <th>lung_n</th>\n",
       "      <th>lung_scc</th>\n",
       "      <th>Predicted_CancerType</th>\n",
       "    </tr>\n",
       "  </thead>\n",
       "  <tbody>\n",
       "    <tr>\n",
       "      <th>0</th>\n",
       "      <td>lungaca1295.jpeg</td>\n",
       "      <td>1</td>\n",
       "      <td>0</td>\n",
       "      <td>0</td>\n",
       "      <td>lung_aca</td>\n",
       "    </tr>\n",
       "    <tr>\n",
       "      <th>1</th>\n",
       "      <td>lungaca249.jpeg</td>\n",
       "      <td>1</td>\n",
       "      <td>0</td>\n",
       "      <td>0</td>\n",
       "      <td>lung_aca</td>\n",
       "    </tr>\n",
       "    <tr>\n",
       "      <th>2</th>\n",
       "      <td>lungscc2058.jpeg</td>\n",
       "      <td>0</td>\n",
       "      <td>0</td>\n",
       "      <td>1</td>\n",
       "      <td>lung_scc</td>\n",
       "    </tr>\n",
       "    <tr>\n",
       "      <th>3</th>\n",
       "      <td>lungn4006.jpeg</td>\n",
       "      <td>0</td>\n",
       "      <td>1</td>\n",
       "      <td>0</td>\n",
       "      <td>lung_n</td>\n",
       "    </tr>\n",
       "    <tr>\n",
       "      <th>4</th>\n",
       "      <td>lungn3434.jpeg</td>\n",
       "      <td>0</td>\n",
       "      <td>1</td>\n",
       "      <td>0</td>\n",
       "      <td>lung_n</td>\n",
       "    </tr>\n",
       "  </tbody>\n",
       "</table>\n",
       "</div>"
      ],
      "text/plain": [
       "              Image  lung_aca  lung_n  lung_scc Predicted_CancerType\n",
       "0  lungaca1295.jpeg         1       0         0             lung_aca\n",
       "1   lungaca249.jpeg         1       0         0             lung_aca\n",
       "2  lungscc2058.jpeg         0       0         1             lung_scc\n",
       "3    lungn4006.jpeg         0       1         0               lung_n\n",
       "4    lungn3434.jpeg         0       1         0               lung_n"
      ]
     },
     "execution_count": 17,
     "metadata": {
      "tags": []
     },
     "output_type": "execute_result"
    }
   ],
   "source": [
    "'''\n",
    "The \"Predicted_CancerType\" column of the \"result\" dataframe contains the\n",
    "predicted cancer type.\n",
    "'''\n",
    "results['Image'] = test_gen.filenames\n",
    "results.insert(4,'Predicted_CancerType', '', False)\n",
    "ordered_cols = ['Image'] + columns + ['Predicted_CancerType']\n",
    "results = results[ordered_cols]\n",
    "\n",
    "for i in range(len(results)):\n",
    "  if results.at[i,'lung_aca'] == 1:\n",
    "    results.at[i,'Predicted_CancerType'] = 'lung_aca'\n",
    "  elif results.at[i,'lung_n'] == 1:\n",
    "    results.at[i,'Predicted_CancerType'] = 'lung_n'\n",
    "  else:\n",
    "    results.at[i,'Predicted_CancerType'] = 'lung_scc'\n",
    "\n",
    "results.head()"
   ]
  },
  {
   "cell_type": "code",
   "execution_count": null,
   "metadata": {
    "colab": {
     "base_uri": "https://localhost:8080/",
     "height": 33
    },
    "colab_type": "code",
    "id": "rIu0QzY5oznr",
    "outputId": "3bb28a3c-e003-4878-8964-ed5314c4a327"
   },
   "outputs": [
    {
     "name": "stdout",
     "output_type": "stream",
     "text": [
      "Matthews Correlation Coefficient:  0.9323720733663772\n"
     ]
    }
   ],
   "source": [
    "#Estimation of the Matthew's Correlation Coefficient\n",
    "mcc = metrics.matthews_corrcoef(test['CancerType'], results['Predicted_CancerType'])\n",
    "print(\"Matthews Correlation Coefficient: \", mcc)"
   ]
  },
  {
   "cell_type": "code",
   "execution_count": null,
   "metadata": {
    "colab": {
     "base_uri": "https://localhost:8080/",
     "height": 183
    },
    "colab_type": "code",
    "id": "XjZE9qXtFmqM",
    "outputId": "b13eda42-ef57-4125-b7a1-6ac5796de07a"
   },
   "outputs": [
    {
     "name": "stdout",
     "output_type": "stream",
     "text": [
      "              precision    recall  f1-score   support\n",
      "\n",
      "    lung_aca       0.95      0.97      0.96       980\n",
      "      lung_n       0.97      0.92      0.94      1017\n",
      "    lung_scc       0.95      0.98      0.96      1003\n",
      "\n",
      "    accuracy                           0.95      3000\n",
      "   macro avg       0.95      0.95      0.95      3000\n",
      "weighted avg       0.96      0.95      0.95      3000\n",
      "\n"
     ]
    }
   ],
   "source": [
    "#Estimation of the F1 Score\n",
    "print(metrics.classification_report(test['CancerType'], results['Predicted_CancerType'],columns))"
   ]
  },
  {
   "cell_type": "code",
   "execution_count": null,
   "metadata": {
    "colab": {
     "base_uri": "https://localhost:8080/",
     "height": 66
    },
    "colab_type": "code",
    "id": "FffS5Taiozq1",
    "outputId": "03e6ad11-8610-4301-e03d-604a004eff55"
   },
   "outputs": [
    {
     "data": {
      "text/plain": [
       "array([[947,  44,   7],\n",
       "       [ 17, 933,  12],\n",
       "       [ 16,  40, 984]])"
      ]
     },
     "execution_count": 23,
     "metadata": {
      "tags": []
     },
     "output_type": "execute_result"
    }
   ],
   "source": [
    "#Generating the confusion matrix\n",
    "confusion_mtx = metrics.confusion_matrix(test['CancerType'], results['Predicted_CancerType'],columns)\n",
    "confusion_mtx.T"
   ]
  },
  {
   "cell_type": "code",
   "execution_count": null,
   "metadata": {
    "colab": {
     "base_uri": "https://localhost:8080/",
     "height": 505
    },
    "colab_type": "code",
    "id": "T_D47nu_ozk6",
    "outputId": "f4fdba25-50c2-4fa7-87f1-8adb677278e9"
   },
   "outputs": [
    {
     "data": {
      "image/png": "[encoded data removed]",
      "text/plain": [
       "<Figure size 720x576 with 2 Axes>"
      ]
     },
     "metadata": {
      "needs_background": "light",
      "tags": []
     },
     "output_type": "display_data"
    }
   ],
   "source": [
    "#plotting the confusion matrix\n",
    "plt.figure(figsize=(10,8))\n",
    "ax= plt.subplot()\n",
    "sns.heatmap(confusion_mtx.T, annot=True, ax = ax,fmt='g',annot_kws={\"size\": 17})\n",
    "ax.xaxis.set_ticklabels(columns)\n",
    "ax.yaxis.set_ticklabels(columns)\n",
    "ax.xaxis.label.set_fontsize(15)\n",
    "ax.yaxis.label.set_fontsize(15)\n",
    "ax.set_xlabel('Actual Class')\n",
    "ax.set_ylabel('Predicited Class')\n",
    "plt.xticks(fontsize=14)\n",
    "plt.yticks(fontsize=14)\n",
    "plt.show()"
   ]
  }
 ],
 "metadata": {
  "accelerator": "GPU",
  "colab": {
   "collapsed_sections": [],
   "name": "RestNet-50_.ipynb",
   "provenance": []
  },
  "kernelspec": {
   "display_name": "Python 3",
   "language": "python",
   "name": "python3"
  },
  "language_info": {
   "codemirror_mode": {
    "name": "ipython",
    "version": 3
   },
   "file_extension": ".py",
   "mimetype": "text/x-python",
   "name": "python",
   "nbconvert_exporter": "python",
   "pygments_lexer": "ipython3",
   "version": "3.7.7"
  }
 },
 "nbformat": 4,
 "nbformat_minor": 1
}
